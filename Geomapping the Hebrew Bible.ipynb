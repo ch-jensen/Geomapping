{
 "cells": [
  {
   "cell_type": "markdown",
   "metadata": {},
   "source": [
    "# Geomapping the Hebrew Bible"
   ]
  },
  {
   "cell_type": "code",
   "execution_count": 1,
   "metadata": {},
   "outputs": [],
   "source": [
    "import geopy.distance, math\n",
    "from statistics import mean\n",
    "import collections\n",
    "import ipywidgets as widgets\n",
    "from ipyleaflet import Marker, Map, Heatmap, MarkerCluster, Circle, basemaps, basemap_to_tiles"
   ]
  },
  {
   "cell_type": "code",
   "execution_count": 2,
   "metadata": {},
   "outputs": [],
   "source": [
    "from tf.fabric import Fabric\n",
    "from tf.extra.bhsa import Bhsa"
   ]
  },
  {
   "cell_type": "code",
   "execution_count": 3,
   "metadata": {},
   "outputs": [],
   "source": [
    "locations = 'etcbc'\n",
    "sources = ['bhsa', 'gps']\n",
    "version = 'c'"
   ]
  },
  {
   "cell_type": "code",
   "execution_count": 4,
   "metadata": {},
   "outputs": [
    {
     "name": "stdout",
     "output_type": "stream",
     "text": [
      "This is Text-Fabric 6.2.1\n",
      "Api reference : https://dans-labs.github.io/text-fabric/Api/General/\n",
      "Tutorial      : https://github.com/Dans-labs/text-fabric/blob/master/docs/tutorial.ipynb\n",
      "Example data  : https://github.com/Dans-labs/text-fabric-data\n",
      "\n",
      "116 features found and 0 ignored\n"
     ]
    }
   ],
   "source": [
    "modules = ['{}/{}/tf/{}'.format(locations, s, version) for s in sources]\n",
    "TF = Fabric(modules=modules)"
   ]
  },
  {
   "cell_type": "code",
   "execution_count": 5,
   "metadata": {},
   "outputs": [
    {
     "name": "stdout",
     "output_type": "stream",
     "text": [
      "  0.00s loading features ...\n",
      "   |     0.09s B otype                from C:/Users/Ejer/text-fabric-data/etcbc/bhsa/tf/c\n",
      "   |     0.02s B book                 from C:/Users/Ejer/text-fabric-data/etcbc/bhsa/tf/c\n",
      "   |     0.23s B typ                  from C:/Users/Ejer/text-fabric-data/etcbc/bhsa/tf/c\n",
      "   |     0.08s B function             from C:/Users/Ejer/text-fabric-data/etcbc/bhsa/tf/c\n",
      "   |     0.14s B sp                   from C:/Users/Ejer/text-fabric-data/etcbc/bhsa/tf/c\n",
      "   |     0.18s B vs                   from C:/Users/Ejer/text-fabric-data/etcbc/bhsa/tf/c\n",
      "   |     0.03s B gloss                from C:/Users/Ejer/text-fabric-data/etcbc/bhsa/tf/c\n",
      "   |     0.02s B nametype             from C:/Users/Ejer/text-fabric-data/etcbc/bhsa/tf/c\n",
      "   |     0.02s B lat                  from C:/Users/Ejer/text-fabric-data/etcbc/gps/tf/c\n",
      "   |     0.02s B long                 from C:/Users/Ejer/text-fabric-data/etcbc/gps/tf/c\n",
      "  6.41s All features loaded/computed - for details use loadLog()\n"
     ]
    },
    {
     "data": {
      "text/plain": [
       "[('computed-data', ('C Computed', 'Call AllComputeds', 'Cs ComputedString')),\n",
       " ('edge-features', ('E Edge', 'Eall AllEdges', 'Es EdgeString')),\n",
       " ('loading', ('TF', 'ensureLoaded', 'ignored', 'loadLog')),\n",
       " ('locality', ('L Locality',)),\n",
       " ('messaging', ('cache', 'error', 'indent', 'info', 'reset')),\n",
       " ('navigating-nodes', ('N Nodes', 'sortKey', 'otypeRank', 'sortNodes')),\n",
       " ('node-features', ('F Feature', 'Fall AllFeatures', 'Fs FeatureString')),\n",
       " ('searching', ('S Search',)),\n",
       " ('text', ('T Text',))]"
      ]
     },
     "execution_count": 5,
     "metadata": {},
     "output_type": "execute_result"
    }
   ],
   "source": [
    "api = TF.load('''\n",
    "    otype\n",
    "    book\n",
    "    typ function\n",
    "    sp vs\n",
    "    gloss nametype lat long\n",
    "''')\n",
    "api.makeAvailableIn(globals())"
   ]
  },
  {
   "cell_type": "markdown",
   "metadata": {},
   "source": [
    "## The `lat` and `long` features"
   ]
  },
  {
   "cell_type": "code",
   "execution_count": 6,
   "metadata": {},
   "outputs": [
    {
     "name": "stdout",
     "output_type": "stream",
     "text": [
      "Glosses with GPS coordinates: 354\n"
     ]
    }
   ],
   "source": [
    "count = []\n",
    "\n",
    "for n in F.otype.s('lex'):\n",
    "    if F.lat.v(n) != None:\n",
    "        count.append(F.gloss.v(n))\n",
    "        \n",
    "print(f'Glosses with GPS coordinates: {len(count)}')"
   ]
  },
  {
   "cell_type": "code",
   "execution_count": 7,
   "metadata": {},
   "outputs": [
    {
     "data": {
      "text/plain": [
       "['Cush',\n",
       " 'Tigris',\n",
       " 'Asshur',\n",
       " 'Euphrates',\n",
       " 'Ararat',\n",
       " 'Elishah',\n",
       " 'Tarshish',\n",
       " 'Egypt',\n",
       " 'Sheba',\n",
       " 'Dedan']"
      ]
     },
     "execution_count": 7,
     "metadata": {},
     "output_type": "execute_result"
    }
   ],
   "source": [
    "count[:10]"
   ]
  },
  {
   "cell_type": "code",
   "execution_count": 10,
   "metadata": {},
   "outputs": [
    {
     "data": {
      "text/plain": [
       "(1441117, 1445589)"
      ]
     },
     "execution_count": 10,
     "metadata": {},
     "output_type": "execute_result"
    }
   ],
   "source": [
    "place = 'Jerusalem'\n",
    "\n",
    "F.gloss.s(place)"
   ]
  },
  {
   "cell_type": "code",
   "execution_count": 12,
   "metadata": {},
   "outputs": [
    {
     "name": "stdout",
     "output_type": "stream",
     "text": [
      "31.777444 35.234935\n"
     ]
    }
   ],
   "source": [
    "gloss = F.gloss.s(place)[1]\n",
    "\n",
    "print(F.lat.v(gloss), F.long.v(gloss))"
   ]
  },
  {
   "cell_type": "code",
   "execution_count": 13,
   "metadata": {},
   "outputs": [
    {
     "name": "stdout",
     "output_type": "stream",
     "text": [
      "GPS coordinates for Nobah: None, None\n"
     ]
    }
   ],
   "source": [
    "node = 1440694\n",
    "\n",
    "print(f'GPS coordinates for {F.gloss.v(node)}: {F.lat.v(node)}, {F.long.v(node)}')"
   ]
  },
  {
   "cell_type": "markdown",
   "metadata": {},
   "source": [
    "### Creating Google Maps links"
   ]
  },
  {
   "cell_type": "code",
   "execution_count": 14,
   "metadata": {},
   "outputs": [],
   "source": [
    "from IPython.core.display import display, HTML"
   ]
  },
  {
   "cell_type": "code",
   "execution_count": 15,
   "metadata": {},
   "outputs": [],
   "source": [
    "def gmapsLink(node):\n",
    "    link = 'http://www.google.com/maps/place/'\n",
    "    lat = F.lat.v(node)\n",
    "    long = F.long.v(node)\n",
    "    link = f'<a href=\"{link}{lat},{long}\" target=\"blank\">{F.gloss.v(node)}</a>'\n",
    "    \n",
    "    return display(HTML(link))"
   ]
  },
  {
   "cell_type": "code",
   "execution_count": 16,
   "metadata": {},
   "outputs": [
    {
     "data": {
      "text/html": [
       "<a href=\"http://www.google.com/maps/place/21.959788,31.343557\" target=\"blank\">Cush</a>"
      ],
      "text/plain": [
       "<IPython.core.display.HTML object>"
      ]
     },
     "metadata": {},
     "output_type": "display_data"
    }
   ],
   "source": [
    "gmapsLink(1437723)"
   ]
  },
  {
   "cell_type": "code",
   "execution_count": 17,
   "metadata": {},
   "outputs": [
    {
     "data": {
      "text/html": [
       "<a href=\"http://www.google.com/maps/place/30.958506,34.3805\" target=\"blank\">Azmon</a>"
      ],
      "text/plain": [
       "<IPython.core.display.HTML object>"
      ]
     },
     "metadata": {},
     "output_type": "display_data"
    }
   ],
   "source": [
    "gmapsLink(F.gloss.s('Azmon')[0])"
   ]
  },
  {
   "cell_type": "code",
   "execution_count": 16,
   "metadata": {
    "scrolled": true
   },
   "outputs": [
    {
     "data": {
      "text/html": [
       "<a href=\"http://www.google.com/maps/place/21.959788,31.343557\" target=\"blank\">Cush</a>"
      ],
      "text/plain": [
       "<IPython.core.display.HTML object>"
      ]
     },
     "metadata": {},
     "output_type": "display_data"
    },
    {
     "data": {
      "text/html": [
       "<a href=\"http://www.google.com/maps/place/35.983343,43.346466\" target=\"blank\">Tigris</a>"
      ],
      "text/plain": [
       "<IPython.core.display.HTML object>"
      ]
     },
     "metadata": {},
     "output_type": "display_data"
    },
    {
     "data": {
      "text/html": [
       "<a href=\"http://www.google.com/maps/place/36.35941,43.152887\" target=\"blank\">Asshur</a>"
      ],
      "text/plain": [
       "<IPython.core.display.HTML object>"
      ]
     },
     "metadata": {},
     "output_type": "display_data"
    },
    {
     "data": {
      "text/html": [
       "<a href=\"http://www.google.com/maps/place/35.090577,40.42778\" target=\"blank\">Euphrates</a>"
      ],
      "text/plain": [
       "<IPython.core.display.HTML object>"
      ]
     },
     "metadata": {},
     "output_type": "display_data"
    },
    {
     "data": {
      "text/html": [
       "<a href=\"http://www.google.com/maps/place/39.70289295384448,44.29818047261773\" target=\"blank\">Ararat</a>"
      ],
      "text/plain": [
       "<IPython.core.display.HTML object>"
      ]
     },
     "metadata": {},
     "output_type": "display_data"
    },
    {
     "data": {
      "text/html": [
       "<a href=\"http://www.google.com/maps/place/35.018306,33.207693\" target=\"blank\">Elishah</a>"
      ],
      "text/plain": [
       "<IPython.core.display.HTML object>"
      ]
     },
     "metadata": {},
     "output_type": "display_data"
    },
    {
     "data": {
      "text/html": [
       "<a href=\"http://www.google.com/maps/place/36.95299512880268,-6.379340234132555\" target=\"blank\">Tarshish</a>"
      ],
      "text/plain": [
       "<IPython.core.display.HTML object>"
      ]
     },
     "metadata": {},
     "output_type": "display_data"
    },
    {
     "data": {
      "text/html": [
       "<a href=\"http://www.google.com/maps/place/30.108086,31.33822\" target=\"blank\">Egypt</a>"
      ],
      "text/plain": [
       "<IPython.core.display.HTML object>"
      ]
     },
     "metadata": {},
     "output_type": "display_data"
    },
    {
     "data": {
      "text/html": [
       "<a href=\"http://www.google.com/maps/place/9.022736,38.746799\" target=\"blank\">Sheba</a>"
      ],
      "text/plain": [
       "<IPython.core.display.HTML object>"
      ]
     },
     "metadata": {},
     "output_type": "display_data"
    },
    {
     "data": {
      "text/html": [
       "<a href=\"http://www.google.com/maps/place/26.625139,37.919663\" target=\"blank\">Dedan</a>"
      ],
      "text/plain": [
       "<IPython.core.display.HTML object>"
      ]
     },
     "metadata": {},
     "output_type": "display_data"
    },
    {
     "data": {
      "text/html": [
       "<a href=\"http://www.google.com/maps/place/32.53650368616845,44.42088287373876\" target=\"blank\">Babel</a>"
      ],
      "text/plain": [
       "<IPython.core.display.HTML object>"
      ]
     },
     "metadata": {},
     "output_type": "display_data"
    },
    {
     "data": {
      "text/html": [
       "<a href=\"http://www.google.com/maps/place/32.322222,45.636111\" target=\"blank\">Erech</a>"
      ],
      "text/plain": [
       "<IPython.core.display.HTML object>"
      ]
     },
     "metadata": {},
     "output_type": "display_data"
    },
    {
     "data": {
      "text/html": [
       "<a href=\"http://www.google.com/maps/place/32.127213,45.229995\" target=\"blank\">Calneh</a>"
      ],
      "text/plain": [
       "<IPython.core.display.HTML object>"
      ]
     },
     "metadata": {},
     "output_type": "display_data"
    },
    {
     "data": {
      "text/html": [
       "<a href=\"http://www.google.com/maps/place/32.53650368616845,44.42088287373876\" target=\"blank\">Shinar</a>"
      ],
      "text/plain": [
       "<IPython.core.display.HTML object>"
      ]
     },
     "metadata": {},
     "output_type": "display_data"
    },
    {
     "data": {
      "text/html": [
       "<a href=\"http://www.google.com/maps/place/36.35941,43.152887\" target=\"blank\">Nineveh</a>"
      ],
      "text/plain": [
       "<IPython.core.display.HTML object>"
      ]
     },
     "metadata": {},
     "output_type": "display_data"
    },
    {
     "data": {
      "text/html": [
       "<a href=\"http://www.google.com/maps/place/36.142884,43.312178\" target=\"blank\">Calah</a>"
      ],
      "text/plain": [
       "<IPython.core.display.HTML object>"
      ]
     },
     "metadata": {},
     "output_type": "display_data"
    },
    {
     "data": {
      "text/html": [
       "<a href=\"http://www.google.com/maps/place/33.56316734135746,35.36634649354799\" target=\"blank\">Sidon</a>"
      ],
      "text/plain": [
       "<IPython.core.display.HTML object>"
      ]
     },
     "metadata": {},
     "output_type": "display_data"
    },
    {
     "data": {
      "text/html": [
       "<a href=\"http://www.google.com/maps/place/31.39129109635703,34.56057015639144\" target=\"blank\">Gerar</a>"
      ],
      "text/plain": [
       "<IPython.core.display.HTML object>"
      ]
     },
     "metadata": {},
     "output_type": "display_data"
    },
    {
     "data": {
      "text/html": [
       "<a href=\"http://www.google.com/maps/place/31.52481769532773,34.4333647185274\" target=\"blank\">Gaza</a>"
      ],
      "text/plain": [
       "<IPython.core.display.HTML object>"
      ]
     },
     "metadata": {},
     "output_type": "display_data"
    },
    {
     "data": {
      "text/html": [
       "<a href=\"http://www.google.com/maps/place/31.19656033132318,35.39648411813492\" target=\"blank\">Sodom</a>"
      ],
      "text/plain": [
       "<IPython.core.display.HTML object>"
      ]
     },
     "metadata": {},
     "output_type": "display_data"
    },
    {
     "data": {
      "text/html": [
       "<a href=\"http://www.google.com/maps/place/31.15724866533878,35.4739543300078\" target=\"blank\">Gomorrah</a>"
      ],
      "text/plain": [
       "<IPython.core.display.HTML object>"
      ]
     },
     "metadata": {},
     "output_type": "display_data"
    },
    {
     "data": {
      "text/html": [
       "<a href=\"http://www.google.com/maps/place/31.11942270162137,35.41253049195169\" target=\"blank\">Admah</a>"
      ],
      "text/plain": [
       "<IPython.core.display.HTML object>"
      ]
     },
     "metadata": {},
     "output_type": "display_data"
    },
    {
     "data": {
      "text/html": [
       "<a href=\"http://www.google.com/maps/place/31.718148,35.584826\" target=\"blank\">Lasha</a>"
      ],
      "text/plain": [
       "<IPython.core.display.HTML object>"
      ]
     },
     "metadata": {},
     "output_type": "display_data"
    },
    {
     "data": {
      "text/html": [
       "<a href=\"http://www.google.com/maps/place/14.550219,44.392642\" target=\"blank\">Sephar</a>"
      ],
      "text/plain": [
       "<IPython.core.display.HTML object>"
      ]
     },
     "metadata": {},
     "output_type": "display_data"
    },
    {
     "data": {
      "text/html": [
       "<a href=\"http://www.google.com/maps/place/30.9620520474569,46.10374195774169\" target=\"blank\">Ur</a>"
      ],
      "text/plain": [
       "<IPython.core.display.HTML object>"
      ]
     },
     "metadata": {},
     "output_type": "display_data"
    },
    {
     "data": {
      "text/html": [
       "<a href=\"http://www.google.com/maps/place/32.21369123124062,35.2817986718367\" target=\"blank\">Shechem</a>"
      ],
      "text/plain": [
       "<IPython.core.display.HTML object>"
      ]
     },
     "metadata": {},
     "output_type": "display_data"
    },
    {
     "data": {
      "text/html": [
       "<a href=\"http://www.google.com/maps/place/32.309099,35.5599\" target=\"blank\">Jordan</a>"
      ],
      "text/plain": [
       "<IPython.core.display.HTML object>"
      ]
     },
     "metadata": {},
     "output_type": "display_data"
    },
    {
     "data": {
      "text/html": [
       "<a href=\"http://www.google.com/maps/place/30.9265225301655,35.4190606947832\" target=\"blank\">Zoar</a>"
      ],
      "text/plain": [
       "<IPython.core.display.HTML object>"
      ]
     },
     "metadata": {},
     "output_type": "display_data"
    },
    {
     "data": {
      "text/html": [
       "<a href=\"http://www.google.com/maps/place/31.54909871686872,35.09356062020027\" target=\"blank\">Mamre</a>"
      ],
      "text/plain": [
       "<IPython.core.display.HTML object>"
      ]
     },
     "metadata": {},
     "output_type": "display_data"
    },
    {
     "data": {
      "text/html": [
       "<a href=\"http://www.google.com/maps/place/31.53577362133176,35.09409986578734\" target=\"blank\">Hebron</a>"
      ],
      "text/plain": [
       "<IPython.core.display.HTML object>"
      ]
     },
     "metadata": {},
     "output_type": "display_data"
    },
    {
     "data": {
      "text/html": [
       "<a href=\"http://www.google.com/maps/place/37.056944,40.997222\" target=\"blank\">Ellasar</a>"
      ],
      "text/plain": [
       "<IPython.core.display.HTML object>"
      ]
     },
     "metadata": {},
     "output_type": "display_data"
    },
    {
     "data": {
      "text/html": [
       "<a href=\"http://www.google.com/maps/place/30.9265225301655,35.4190606947832\" target=\"blank\">Bela</a>"
      ],
      "text/plain": [
       "<IPython.core.display.HTML object>"
      ]
     },
     "metadata": {},
     "output_type": "display_data"
    },
    {
     "data": {
      "text/html": [
       "<a href=\"http://www.google.com/maps/place/30.734691,35.60625\" target=\"blank\">Seir</a>"
      ],
      "text/plain": [
       "<IPython.core.display.HTML object>"
      ]
     },
     "metadata": {},
     "output_type": "display_data"
    },
    {
     "data": {
      "text/html": [
       "<a href=\"http://www.google.com/maps/place/33.5,36.466667\" target=\"blank\">Hobah</a>"
      ],
      "text/plain": [
       "<IPython.core.display.HTML object>"
      ]
     },
     "metadata": {},
     "output_type": "display_data"
    },
    {
     "data": {
      "text/html": [
       "<a href=\"http://www.google.com/maps/place/33.519299,36.31344999999999\" target=\"blank\">Damascus</a>"
      ],
      "text/plain": [
       "<IPython.core.display.HTML object>"
      ]
     },
     "metadata": {},
     "output_type": "display_data"
    },
    {
     "data": {
      "text/html": [
       "<a href=\"http://www.google.com/maps/place/31.777444,35.234935\" target=\"blank\">Salem</a>"
      ],
      "text/plain": [
       "<IPython.core.display.HTML object>"
      ]
     },
     "metadata": {},
     "output_type": "display_data"
    },
    {
     "data": {
      "text/html": [
       "<a href=\"http://www.google.com/maps/place/30.2354,33.247\" target=\"blank\">Shur</a>"
      ],
      "text/plain": [
       "<IPython.core.display.HTML object>"
      ]
     },
     "metadata": {},
     "output_type": "display_data"
    },
    {
     "data": {
      "text/html": [
       "<a href=\"http://www.google.com/maps/place/9.022736,38.746799\" target=\"blank\">Sheba</a>"
      ],
      "text/plain": [
       "<IPython.core.display.HTML object>"
      ]
     },
     "metadata": {},
     "output_type": "display_data"
    },
    {
     "data": {
      "text/html": [
       "<a href=\"http://www.google.com/maps/place/31.77759385009378,35.23525140955081\" target=\"blank\">Moriah</a>"
      ],
      "text/plain": [
       "<IPython.core.display.HTML object>"
      ]
     },
     "metadata": {},
     "output_type": "display_data"
    },
    {
     "data": {
      "text/html": [
       "<a href=\"http://www.google.com/maps/place/31.52464794555393,35.11073465087356\" target=\"blank\">Machpelah</a>"
      ],
      "text/plain": [
       "<IPython.core.display.HTML object>"
      ]
     },
     "metadata": {},
     "output_type": "display_data"
    },
    {
     "data": {
      "text/html": [
       "<a href=\"http://www.google.com/maps/place/32.53650368616845,44.42088287373876\" target=\"blank\">Mesopotamia</a>"
      ],
      "text/plain": [
       "<IPython.core.display.HTML object>"
      ]
     },
     "metadata": {},
     "output_type": "display_data"
    },
    {
     "data": {
      "text/html": [
       "<a href=\"http://www.google.com/maps/place/27.633172,38.554125\" target=\"blank\">Tema</a>"
      ],
      "text/plain": [
       "<IPython.core.display.HTML object>"
      ]
     },
     "metadata": {},
     "output_type": "display_data"
    },
    {
     "data": {
      "text/html": [
       "<a href=\"http://www.google.com/maps/place/30.734691,35.60625\" target=\"blank\">Edom</a>"
      ],
      "text/plain": [
       "<IPython.core.display.HTML object>"
      ]
     },
     "metadata": {},
     "output_type": "display_data"
    },
    {
     "data": {
      "text/html": [
       "<a href=\"http://www.google.com/maps/place/31.24495217357714,34.8408885849849\" target=\"blank\">Shibah</a>"
      ],
      "text/plain": [
       "<IPython.core.display.HTML object>"
      ]
     },
     "metadata": {},
     "output_type": "display_data"
    },
    {
     "data": {
      "text/html": [
       "<a href=\"http://www.google.com/maps/place/32.042523,35.724241\" target=\"blank\">Gilead</a>"
      ],
      "text/plain": [
       "<IPython.core.display.HTML object>"
      ]
     },
     "metadata": {},
     "output_type": "display_data"
    },
    {
     "data": {
      "text/html": [
       "<a href=\"http://www.google.com/maps/place/32.56526757366849,36.00555930879645\" target=\"blank\">Galeed</a>"
      ],
      "text/plain": [
       "<IPython.core.display.HTML object>"
      ]
     },
     "metadata": {},
     "output_type": "display_data"
    },
    {
     "data": {
      "text/html": [
       "<a href=\"http://www.google.com/maps/place/32.193237,35.676305\" target=\"blank\">Jabbok</a>"
      ],
      "text/plain": [
       "<IPython.core.display.HTML object>"
      ]
     },
     "metadata": {},
     "output_type": "display_data"
    },
    {
     "data": {
      "text/html": [
       "<a href=\"http://www.google.com/maps/place/32.1843727808126,35.70287002746794\" target=\"blank\">Peniel</a>"
      ],
      "text/plain": [
       "<IPython.core.display.HTML object>"
      ]
     },
     "metadata": {},
     "output_type": "display_data"
    },
    {
     "data": {
      "text/html": [
       "<a href=\"http://www.google.com/maps/place/30.203813,35.732568\" target=\"blank\">Teman</a>"
      ],
      "text/plain": [
       "<IPython.core.display.HTML object>"
      ]
     },
     "metadata": {},
     "output_type": "display_data"
    },
    {
     "data": {
      "text/html": [
       "<a href=\"http://www.google.com/maps/place/30.734691,35.60625\" target=\"blank\">Pau</a>"
      ],
      "text/plain": [
       "<IPython.core.display.HTML object>"
      ]
     },
     "metadata": {},
     "output_type": "display_data"
    },
    {
     "data": {
      "text/html": [
       "<a href=\"http://www.google.com/maps/place/32.42064338380848,35.18019829952955\" target=\"blank\">Dothan</a>"
      ],
      "text/plain": [
       "<IPython.core.display.HTML object>"
      ]
     },
     "metadata": {},
     "output_type": "display_data"
    },
    {
     "data": {
      "text/html": [
       "<a href=\"http://www.google.com/maps/place/30.092632,31.230987\" target=\"blank\">Nile</a>"
      ],
      "text/plain": [
       "<IPython.core.display.HTML object>"
      ]
     },
     "metadata": {},
     "output_type": "display_data"
    },
    {
     "data": {
      "text/html": [
       "<a href=\"http://www.google.com/maps/place/30.799370210096,31.834216685474\" target=\"blank\">Rameses</a>"
      ],
      "text/plain": [
       "<IPython.core.display.HTML object>"
      ]
     },
     "metadata": {},
     "output_type": "display_data"
    },
    {
     "data": {
      "text/html": [
       "<a href=\"http://www.google.com/maps/place/32.05570050712985,35.28952869712683\" target=\"blank\">Shiloh</a>"
      ],
      "text/plain": [
       "<IPython.core.display.HTML object>"
      ]
     },
     "metadata": {},
     "output_type": "display_data"
    },
    {
     "data": {
      "text/html": [
       "<a href=\"http://www.google.com/maps/place/30.59385132817632,32.18555803140015\" target=\"blank\">Pithom</a>"
      ],
      "text/plain": [
       "<IPython.core.display.HTML object>"
      ]
     },
     "metadata": {},
     "output_type": "display_data"
    },
    {
     "data": {
      "text/html": [
       "<a href=\"http://www.google.com/maps/place/28.539722,33.973333\" target=\"blank\">Horeb</a>"
      ],
      "text/plain": [
       "<IPython.core.display.HTML object>"
      ]
     },
     "metadata": {},
     "output_type": "display_data"
    },
    {
     "data": {
      "text/html": [
       "<a href=\"http://www.google.com/maps/place/30.467511,32.282767\" target=\"blank\">Etham</a>"
      ],
      "text/plain": [
       "<IPython.core.display.HTML object>"
      ]
     },
     "metadata": {},
     "output_type": "display_data"
    },
    {
     "data": {
      "text/html": [
       "<a href=\"http://www.google.com/maps/place/33.56316734135746,35.36634649354799\" target=\"blank\">Philistia</a>"
      ],
      "text/plain": [
       "<IPython.core.display.HTML object>"
      ]
     },
     "metadata": {},
     "output_type": "display_data"
    },
    {
     "data": {
      "text/html": [
       "<a href=\"http://www.google.com/maps/place/29.35,32.933333\" target=\"blank\">Marah</a>"
      ],
      "text/plain": [
       "<IPython.core.display.HTML object>"
      ]
     },
     "metadata": {},
     "output_type": "display_data"
    },
    {
     "data": {
      "text/html": [
       "<a href=\"http://www.google.com/maps/place/29.306194,32.980924\" target=\"blank\">Elim</a>"
      ],
      "text/plain": [
       "<IPython.core.display.HTML object>"
      ]
     },
     "metadata": {},
     "output_type": "display_data"
    },
    {
     "data": {
      "text/html": [
       "<a href=\"http://www.google.com/maps/place/28.838778,33.420573\" target=\"blank\">Sin</a>"
      ],
      "text/plain": [
       "<IPython.core.display.HTML object>"
      ]
     },
     "metadata": {},
     "output_type": "display_data"
    },
    {
     "data": {
      "text/html": [
       "<a href=\"http://www.google.com/maps/place/28.539722,33.973333\" target=\"blank\">Sinai</a>"
      ],
      "text/plain": [
       "<IPython.core.display.HTML object>"
      ]
     },
     "metadata": {},
     "output_type": "display_data"
    },
    {
     "data": {
      "text/html": [
       "<a href=\"http://www.google.com/maps/place/28.73106102564323,33.84169995726504\" target=\"blank\">Rephidim</a>"
      ],
      "text/plain": [
       "<IPython.core.display.HTML object>"
      ]
     },
     "metadata": {},
     "output_type": "display_data"
    },
    {
     "data": {
      "text/html": [
       "<a href=\"http://www.google.com/maps/place/28.916667,34.5\" target=\"blank\">Hazeroth</a>"
      ],
      "text/plain": [
       "<IPython.core.display.HTML object>"
      ]
     },
     "metadata": {},
     "output_type": "display_data"
    },
    {
     "data": {
      "text/html": [
       "<a href=\"http://www.google.com/maps/place/35.136204,36.749488\" target=\"blank\">Hamath</a>"
      ],
      "text/plain": [
       "<IPython.core.display.HTML object>"
      ]
     },
     "metadata": {},
     "output_type": "display_data"
    },
    {
     "data": {
      "text/html": [
       "<a href=\"http://www.google.com/maps/place/30.97461982407924,31.88417306768534\" target=\"blank\">Zoan</a>"
      ],
      "text/plain": [
       "<IPython.core.display.HTML object>"
      ]
     },
     "metadata": {},
     "output_type": "display_data"
    },
    {
     "data": {
      "text/html": [
       "<a href=\"http://www.google.com/maps/place/30.880918,34.63062\" target=\"blank\">Hormah</a>"
      ],
      "text/plain": [
       "<IPython.core.display.HTML object>"
      ]
     },
     "metadata": {},
     "output_type": "display_data"
    },
    {
     "data": {
      "text/html": [
       "<a href=\"http://www.google.com/maps/place/31.28098170907087,35.12636584365214\" target=\"blank\">Arad</a>"
      ],
      "text/plain": [
       "<IPython.core.display.HTML object>"
      ]
     },
     "metadata": {},
     "output_type": "display_data"
    },
    {
     "data": {
      "text/html": [
       "<a href=\"http://www.google.com/maps/place/30.884128,35.897633\" target=\"blank\">Zered</a>"
      ],
      "text/plain": [
       "<IPython.core.display.HTML object>"
      ]
     },
     "metadata": {},
     "output_type": "display_data"
    },
    {
     "data": {
      "text/html": [
       "<a href=\"http://www.google.com/maps/place/31.4288,35.677009\" target=\"blank\">Arnon</a>"
      ],
      "text/plain": [
       "<IPython.core.display.HTML object>"
      ]
     },
     "metadata": {},
     "output_type": "display_data"
    },
    {
     "data": {
      "text/html": [
       "<a href=\"http://www.google.com/maps/place/27.088473,34.771729\" target=\"blank\">Suphah</a>"
      ],
      "text/plain": [
       "<IPython.core.display.HTML object>"
      ]
     },
     "metadata": {},
     "output_type": "display_data"
    },
    {
     "data": {
      "text/html": [
       "<a href=\"http://www.google.com/maps/place/31.44980942220132,35.59395836278803\" target=\"blank\">Ar</a>"
      ],
      "text/plain": [
       "<IPython.core.display.HTML object>"
      ]
     },
     "metadata": {},
     "output_type": "display_data"
    },
    {
     "data": {
      "text/html": [
       "<a href=\"http://www.google.com/maps/place/31.718148,35.584826\" target=\"blank\">Nahaliel</a>"
      ],
      "text/plain": [
       "<IPython.core.display.HTML object>"
      ]
     },
     "metadata": {},
     "output_type": "display_data"
    },
    {
     "data": {
      "text/html": [
       "<a href=\"http://www.google.com/maps/place/31.76503129703305,35.71856575741812\" target=\"blank\">Pisgah</a>"
      ],
      "text/plain": [
       "<IPython.core.display.HTML object>"
      ]
     },
     "metadata": {},
     "output_type": "display_data"
    },
    {
     "data": {
      "text/html": [
       "<a href=\"http://www.google.com/maps/place/31.50100308502659,35.92063125199366\" target=\"blank\">Jahzah</a>"
      ],
      "text/plain": [
       "<IPython.core.display.HTML object>"
      ]
     },
     "metadata": {},
     "output_type": "display_data"
    },
    {
     "data": {
      "text/html": [
       "<a href=\"http://www.google.com/maps/place/31.80052000870321,35.80901866717255\" target=\"blank\">Heshbon</a>"
      ],
      "text/plain": [
       "<IPython.core.display.HTML object>"
      ]
     },
     "metadata": {},
     "output_type": "display_data"
    },
    {
     "data": {
      "text/html": [
       "<a href=\"http://www.google.com/maps/place/32.756919,36.6164\" target=\"blank\">Nophah</a>"
      ],
      "text/plain": [
       "<IPython.core.display.HTML object>"
      ]
     },
     "metadata": {},
     "output_type": "display_data"
    },
    {
     "data": {
      "text/html": [
       "<a href=\"http://www.google.com/maps/place/31.72045763248588,35.79197231962891\" target=\"blank\">Medeba</a>"
      ],
      "text/plain": [
       "<IPython.core.display.HTML object>"
      ]
     },
     "metadata": {},
     "output_type": "display_data"
    },
    {
     "data": {
      "text/html": [
       "<a href=\"http://www.google.com/maps/place/31.94352951689796,35.72776961157128\" target=\"blank\">Jazer</a>"
      ],
      "text/plain": [
       "<IPython.core.display.HTML object>"
      ]
     },
     "metadata": {},
     "output_type": "display_data"
    },
    {
     "data": {
      "text/html": [
       "<a href=\"http://www.google.com/maps/place/32.80007552505443,35.93730130476259\" target=\"blank\">Bashan</a>"
      ],
      "text/plain": [
       "<IPython.core.display.HTML object>"
      ]
     },
     "metadata": {},
     "output_type": "display_data"
    },
    {
     "data": {
      "text/html": [
       "<a href=\"http://www.google.com/maps/place/32.62413707696097,36.09899663593119\" target=\"blank\">Edrei</a>"
      ],
      "text/plain": [
       "<IPython.core.display.HTML object>"
      ]
     },
     "metadata": {},
     "output_type": "display_data"
    },
    {
     "data": {
      "text/html": [
       "<a href=\"http://www.google.com/maps/place/31.87060143818292,35.44386371224434\" target=\"blank\">Jericho</a>"
      ],
      "text/plain": [
       "<IPython.core.display.HTML object>"
      ]
     },
     "metadata": {},
     "output_type": "display_data"
    },
    {
     "data": {
      "text/html": [
       "<a href=\"http://www.google.com/maps/place/36.654616,38.068879\" target=\"blank\">Pethor</a>"
      ],
      "text/plain": [
       "<IPython.core.display.HTML object>"
      ]
     },
     "metadata": {},
     "output_type": "display_data"
    },
    {
     "data": {
      "text/html": [
       "<a href=\"http://www.google.com/maps/place/31.85826217905818,35.64156652792805\" target=\"blank\">Shittim</a>"
      ],
      "text/plain": [
       "<IPython.core.display.HTML object>"
      ]
     },
     "metadata": {},
     "output_type": "display_data"
    },
    {
     "data": {
      "text/html": [
       "<a href=\"http://www.google.com/maps/place/31.76135780447535,35.74614824478083\" target=\"blank\">Abarim</a>"
      ],
      "text/plain": [
       "<IPython.core.display.HTML object>"
      ]
     },
     "metadata": {},
     "output_type": "display_data"
    },
    {
     "data": {
      "text/html": [
       "<a href=\"http://www.google.com/maps/place/31.900811,35.625693\" target=\"blank\">Nimrah</a>"
      ],
      "text/plain": [
       "<IPython.core.display.HTML object>"
      ]
     },
     "metadata": {},
     "output_type": "display_data"
    },
    {
     "data": {
      "text/html": [
       "<a href=\"http://www.google.com/maps/place/31.813796,35.824275\" target=\"blank\">Elealeh</a>"
      ],
      "text/plain": [
       "<IPython.core.display.HTML object>"
      ]
     },
     "metadata": {},
     "output_type": "display_data"
    },
    {
     "data": {
      "text/html": [
       "<a href=\"http://www.google.com/maps/place/31.679454,35.734892\" target=\"blank\">Beon</a>"
      ],
      "text/plain": [
       "<IPython.core.display.HTML object>"
      ]
     },
     "metadata": {},
     "output_type": "display_data"
    },
    {
     "data": {
      "text/html": [
       "<a href=\"http://www.google.com/maps/place/32.028743,35.862887\" target=\"blank\">Jogbehah</a>"
      ],
      "text/plain": [
       "<IPython.core.display.HTML object>"
      ]
     },
     "metadata": {},
     "output_type": "display_data"
    },
    {
     "data": {
      "text/html": [
       "<a href=\"http://www.google.com/maps/place/32.756919,36.6164\" target=\"blank\">Kenath</a>"
      ],
      "text/plain": [
       "<IPython.core.display.HTML object>"
      ]
     },
     "metadata": {},
     "output_type": "display_data"
    },
    {
     "data": {
      "text/html": [
       "<a href=\"http://www.google.com/maps/place/32.756919,36.6164\" target=\"blank\">Nobah</a>"
      ],
      "text/plain": [
       "<IPython.core.display.HTML object>"
      ]
     },
     "metadata": {},
     "output_type": "display_data"
    },
    {
     "data": {
      "text/html": [
       "<a href=\"http://www.google.com/maps/place/30.958506,34.3805\" target=\"blank\">Azmon</a>"
      ],
      "text/plain": [
       "<IPython.core.display.HTML object>"
      ]
     },
     "metadata": {},
     "output_type": "display_data"
    },
    {
     "data": {
      "text/html": [
       "<a href=\"http://www.google.com/maps/place/34.312571,36.925484\" target=\"blank\">Zedad</a>"
      ],
      "text/plain": [
       "<IPython.core.display.HTML object>"
      ]
     },
     "metadata": {},
     "output_type": "display_data"
    },
    {
     "data": {
      "text/html": [
       "<a href=\"http://www.google.com/maps/place/27.088473,34.771729\" target=\"blank\">Suph</a>"
      ],
      "text/plain": [
       "<IPython.core.display.HTML object>"
      ]
     },
     "metadata": {},
     "output_type": "display_data"
    },
    {
     "data": {
      "text/html": [
       "<a href=\"http://www.google.com/maps/place/30.936991,35.61687\" target=\"blank\">Tophel</a>"
      ],
      "text/plain": [
       "<IPython.core.display.HTML object>"
      ]
     },
     "metadata": {},
     "output_type": "display_data"
    },
    {
     "data": {
      "text/html": [
       "<a href=\"http://www.google.com/maps/place/28.507836,34.516339\" target=\"blank\">Dizahab</a>"
      ],
      "text/plain": [
       "<IPython.core.display.HTML object>"
      ]
     },
     "metadata": {},
     "output_type": "display_data"
    },
    {
     "data": {
      "text/html": [
       "<a href=\"http://www.google.com/maps/place/32.8333333333,36.0166666667\" target=\"blank\">Ashtaroth</a>"
      ],
      "text/plain": [
       "<IPython.core.display.HTML object>"
      ]
     },
     "metadata": {},
     "output_type": "display_data"
    },
    {
     "data": {
      "text/html": [
       "<a href=\"http://www.google.com/maps/place/33.752479,35.590804\" target=\"blank\">Lebanon</a>"
      ],
      "text/plain": [
       "<IPython.core.display.HTML object>"
      ]
     },
     "metadata": {},
     "output_type": "display_data"
    },
    {
     "data": {
      "text/html": [
       "<a href=\"http://www.google.com/maps/place/29.528502,35.005732\" target=\"blank\">Elath</a>"
      ],
      "text/plain": [
       "<IPython.core.display.HTML object>"
      ]
     },
     "metadata": {},
     "output_type": "display_data"
    },
    {
     "data": {
      "text/html": [
       "<a href=\"http://www.google.com/maps/place/35.171239,25.007204\" target=\"blank\">Caphtor</a>"
      ],
      "text/plain": [
       "<IPython.core.display.HTML object>"
      ]
     },
     "metadata": {},
     "output_type": "display_data"
    },
    {
     "data": {
      "text/html": [
       "<a href=\"http://www.google.com/maps/place/31.646073,35.894537\" target=\"blank\">Kedemoth</a>"
      ],
      "text/plain": [
       "<IPython.core.display.HTML object>"
      ]
     },
     "metadata": {},
     "output_type": "display_data"
    },
    {
     "data": {
      "text/html": [
       "<a href=\"http://www.google.com/maps/place/33.41615982399708,35.85725617635589\" target=\"blank\">Hermon</a>"
      ],
      "text/plain": [
       "<IPython.core.display.HTML object>"
      ]
     },
     "metadata": {},
     "output_type": "display_data"
    },
    {
     "data": {
      "text/html": [
       "<a href=\"http://www.google.com/maps/place/33.41615982399708,35.85725617635589\" target=\"blank\">Sirion</a>"
      ],
      "text/plain": [
       "<IPython.core.display.HTML object>"
      ]
     },
     "metadata": {},
     "output_type": "display_data"
    },
    {
     "data": {
      "text/html": [
       "<a href=\"http://www.google.com/maps/place/33.41615982399708,35.85725617635589\" target=\"blank\">Senir</a>"
      ],
      "text/plain": [
       "<IPython.core.display.HTML object>"
      ]
     },
     "metadata": {},
     "output_type": "display_data"
    },
    {
     "data": {
      "text/html": [
       "<a href=\"http://www.google.com/maps/place/32.493941,36.710337\" target=\"blank\">Salecah</a>"
      ],
      "text/plain": [
       "<IPython.core.display.HTML object>"
      ]
     },
     "metadata": {},
     "output_type": "display_data"
    },
    {
     "data": {
      "text/html": [
       "<a href=\"http://www.google.com/maps/place/32.80007552505443,35.93730130476259\" target=\"blank\">Golan</a>"
      ],
      "text/plain": [
       "<IPython.core.display.HTML object>"
      ]
     },
     "metadata": {},
     "output_type": "display_data"
    },
    {
     "data": {
      "text/html": [
       "<a href=\"http://www.google.com/maps/place/32.09772014797369,35.56469085401976\" target=\"blank\">Adam</a>"
      ],
      "text/plain": [
       "<IPython.core.display.HTML object>"
      ]
     },
     "metadata": {},
     "output_type": "display_data"
    },
    {
     "data": {
      "text/html": [
       "<a href=\"http://www.google.com/maps/place/32.267821,35.576613\" target=\"blank\">Zarethan</a>"
      ],
      "text/plain": [
       "<IPython.core.display.HTML object>"
      ]
     },
     "metadata": {},
     "output_type": "display_data"
    },
    {
     "data": {
      "text/html": [
       "<a href=\"http://www.google.com/maps/place/31.84684772753698,35.18491237777512\" target=\"blank\">Gibeon</a>"
      ],
      "text/plain": [
       "<IPython.core.display.HTML object>"
      ]
     },
     "metadata": {},
     "output_type": "display_data"
    },
    {
     "data": {
      "text/html": [
       "<a href=\"http://www.google.com/maps/place/31.90007449127097,35.21668800602465\" target=\"blank\">Beeroth</a>"
      ],
      "text/plain": [
       "<IPython.core.display.HTML object>"
      ]
     },
     "metadata": {},
     "output_type": "display_data"
    },
    {
     "data": {
      "text/html": [
       "<a href=\"http://www.google.com/maps/place/31.777444,35.234935\" target=\"blank\">Jerusalem</a>"
      ],
      "text/plain": [
       "<IPython.core.display.HTML object>"
      ]
     },
     "metadata": {},
     "output_type": "display_data"
    },
    {
     "data": {
      "text/html": [
       "<a href=\"http://www.google.com/maps/place/31.56485056116292,34.8467256730566\" target=\"blank\">Lachish</a>"
      ],
      "text/plain": [
       "<IPython.core.display.HTML object>"
      ]
     },
     "metadata": {},
     "output_type": "display_data"
    },
    {
     "data": {
      "text/html": [
       "<a href=\"http://www.google.com/maps/place/31.5,34.7667\" target=\"blank\">Eglon</a>"
      ],
      "text/plain": [
       "<IPython.core.display.HTML object>"
      ]
     },
     "metadata": {},
     "output_type": "display_data"
    },
    {
     "data": {
      "text/html": [
       "<a href=\"http://www.google.com/maps/place/31.70063856043753,34.93618589974822\" target=\"blank\">Azekah</a>"
      ],
      "text/plain": [
       "<IPython.core.display.HTML object>"
      ]
     },
     "metadata": {},
     "output_type": "display_data"
    },
    {
     "data": {
      "text/html": [
       "<a href=\"http://www.google.com/maps/place/31.935117,34.781326\" target=\"blank\">Makkedah</a>"
      ],
      "text/plain": [
       "<IPython.core.display.HTML object>"
      ]
     },
     "metadata": {},
     "output_type": "display_data"
    },
    {
     "data": {
      "text/html": [
       "<a href=\"http://www.google.com/maps/place/31.84117376619545,35.02537926743067\" target=\"blank\">Aijalon</a>"
      ],
      "text/plain": [
       "<IPython.core.display.HTML object>"
      ]
     },
     "metadata": {},
     "output_type": "display_data"
    },
    {
     "data": {
      "text/html": [
       "<a href=\"http://www.google.com/maps/place/31.87611111111111,34.9225\" target=\"blank\">Gezer</a>"
      ],
      "text/plain": [
       "<IPython.core.display.HTML object>"
      ]
     },
     "metadata": {},
     "output_type": "display_data"
    },
    {
     "data": {
      "text/html": [
       "<a href=\"http://www.google.com/maps/place/32.799879,35.459506\" target=\"blank\">Madon</a>"
      ],
      "text/plain": [
       "<IPython.core.display.HTML object>"
      ]
     },
     "metadata": {},
     "output_type": "display_data"
    },
    {
     "data": {
      "text/html": [
       "<a href=\"http://www.google.com/maps/place/32.70528895585606,35.21333285757741\" target=\"blank\">Shimron</a>"
      ],
      "text/plain": [
       "<IPython.core.display.HTML object>"
      ]
     },
     "metadata": {},
     "output_type": "display_data"
    },
    {
     "data": {
      "text/html": [
       "<a href=\"http://www.google.com/maps/place/32.61323618394521,34.91889683434057\" target=\"blank\">Dor</a>"
      ],
      "text/plain": [
       "<IPython.core.display.HTML object>"
      ]
     },
     "metadata": {},
     "output_type": "display_data"
    },
    {
     "data": {
      "text/html": [
       "<a href=\"http://www.google.com/maps/place/33.075269,35.60548\" target=\"blank\">Merom</a>"
      ],
      "text/plain": [
       "<IPython.core.display.HTML object>"
      ]
     },
     "metadata": {},
     "output_type": "display_data"
    },
    {
     "data": {
      "text/html": [
       "<a href=\"http://www.google.com/maps/place/31.403888,34.944185\" target=\"blank\">Anab</a>"
      ],
      "text/plain": [
       "<IPython.core.display.HTML object>"
      ]
     },
     "metadata": {},
     "output_type": "display_data"
    },
    {
     "data": {
      "text/html": [
       "<a href=\"http://www.google.com/maps/place/31.69352950368834,34.84388288576839\" target=\"blank\">Gath</a>"
      ],
      "text/plain": [
       "<IPython.core.display.HTML object>"
      ]
     },
     "metadata": {},
     "output_type": "display_data"
    },
    {
     "data": {
      "text/html": [
       "<a href=\"http://www.google.com/maps/place/31.80299971086164,34.6351145939134\" target=\"blank\">Ashdod</a>"
      ],
      "text/plain": [
       "<IPython.core.display.HTML object>"
      ]
     },
     "metadata": {},
     "output_type": "display_data"
    },
    {
     "data": {
      "text/html": [
       "<a href=\"http://www.google.com/maps/place/31.63333,35.083333\" target=\"blank\">Geder</a>"
      ],
      "text/plain": [
       "<IPython.core.display.HTML object>"
      ]
     },
     "metadata": {},
     "output_type": "display_data"
    },
    {
     "data": {
      "text/html": [
       "<a href=\"http://www.google.com/maps/place/31.65,35.0\" target=\"blank\">Adullam</a>"
      ],
      "text/plain": [
       "<IPython.core.display.HTML object>"
      ]
     },
     "metadata": {},
     "output_type": "display_data"
    },
    {
     "data": {
      "text/html": [
       "<a href=\"http://www.google.com/maps/place/32.3667,34.8833\" target=\"blank\">Hepher</a>"
      ],
      "text/plain": [
       "<IPython.core.display.HTML object>"
      ]
     },
     "metadata": {},
     "output_type": "display_data"
    },
    {
     "data": {
      "text/html": [
       "<a href=\"http://www.google.com/maps/place/32.51723975501718,35.21632508826309\" target=\"blank\">Taanach</a>"
      ],
      "text/plain": [
       "<IPython.core.display.HTML object>"
      ]
     },
     "metadata": {},
     "output_type": "display_data"
    },
    {
     "data": {
      "text/html": [
       "<a href=\"http://www.google.com/maps/place/32.58418313614938,35.18229165870594\" target=\"blank\">Megiddo</a>"
      ],
      "text/plain": [
       "<IPython.core.display.HTML object>"
      ]
     },
     "metadata": {},
     "output_type": "display_data"
    },
    {
     "data": {
      "text/html": [
       "<a href=\"http://www.google.com/maps/place/32.66454576550823,35.10891818863304\" target=\"blank\">Jokneam</a>"
      ],
      "text/plain": [
       "<IPython.core.display.HTML object>"
      ]
     },
     "metadata": {},
     "output_type": "display_data"
    },
    {
     "data": {
      "text/html": [
       "<a href=\"http://www.google.com/maps/place/31.43333151674604,35.13333188530802\" target=\"blank\">Carmel</a>"
      ],
      "text/plain": [
       "<IPython.core.display.HTML object>"
      ]
     },
     "metadata": {},
     "output_type": "display_data"
    },
    {
     "data": {
      "text/html": [
       "<a href=\"http://www.google.com/maps/place/32.27136869937776,35.29430386845415\" target=\"blank\">Tirzah</a>"
      ],
      "text/plain": [
       "<IPython.core.display.HTML object>"
      ]
     },
     "metadata": {},
     "output_type": "display_data"
    },
    {
     "data": {
      "text/html": [
       "<a href=\"http://www.google.com/maps/place/31.032047,33.854957\" target=\"blank\">Shihor</a>"
      ],
      "text/plain": [
       "<IPython.core.display.HTML object>"
      ]
     },
     "metadata": {},
     "output_type": "display_data"
    },
    {
     "data": {
      "text/html": [
       "<a href=\"http://www.google.com/maps/place/31.77761410537458,34.85214575880509\" target=\"blank\">Ekron</a>"
      ],
      "text/plain": [
       "<IPython.core.display.HTML object>"
      ]
     },
     "metadata": {},
     "output_type": "display_data"
    },
    {
     "data": {
      "text/html": [
       "<a href=\"http://www.google.com/maps/place/33.633333,35.433333\" target=\"blank\">Mearah</a>"
      ],
      "text/plain": [
       "<IPython.core.display.HTML object>"
      ]
     },
     "metadata": {},
     "output_type": "display_data"
    },
    {
     "data": {
      "text/html": [
       "<a href=\"http://www.google.com/maps/place/33.0,36.41667\" target=\"blank\">Geshur</a>"
      ],
      "text/plain": [
       "<IPython.core.display.HTML object>"
      ]
     },
     "metadata": {},
     "output_type": "display_data"
    },
    {
     "data": {
      "text/html": [
       "<a href=\"http://www.google.com/maps/place/31.85,35.933333\" target=\"blank\">Mephaath</a>"
      ],
      "text/plain": [
       "<IPython.core.display.HTML object>"
      ]
     },
     "metadata": {},
     "output_type": "display_data"
    },
    {
     "data": {
      "text/html": [
       "<a href=\"http://www.google.com/maps/place/31.95018855468469,35.92413135872749\" target=\"blank\">Rabbah</a>"
      ],
      "text/plain": [
       "<IPython.core.display.HTML object>"
      ]
     },
     "metadata": {},
     "output_type": "display_data"
    },
    {
     "data": {
      "text/html": [
       "<a href=\"http://www.google.com/maps/place/32.0105,35.706297\" target=\"blank\">Betonim</a>"
      ],
      "text/plain": [
       "<IPython.core.display.HTML object>"
      ]
     },
     "metadata": {},
     "output_type": "display_data"
    },
    {
     "data": {
      "text/html": [
       "<a href=\"http://www.google.com/maps/place/32.23771,35.585865\" target=\"blank\">Zaphon</a>"
      ],
      "text/plain": [
       "<IPython.core.display.HTML object>"
      ]
     },
     "metadata": {},
     "output_type": "display_data"
    },
    {
     "data": {
      "text/html": [
       "<a href=\"http://www.google.com/maps/place/33.01718199667929,35.56804856758258\" target=\"blank\">Hezron</a>"
      ],
      "text/plain": [
       "<IPython.core.display.HTML object>"
      ]
     },
     "metadata": {},
     "output_type": "display_data"
    },
    {
     "data": {
      "text/html": [
       "<a href=\"http://www.google.com/maps/place/31.683036,35.167987\" target=\"blank\">Nephtoah</a>"
      ],
      "text/plain": [
       "<IPython.core.display.HTML object>"
      ]
     },
     "metadata": {},
     "output_type": "display_data"
    },
    {
     "data": {
      "text/html": [
       "<a href=\"http://www.google.com/maps/place/32.049953,35.733402\" target=\"blank\">Bealoth</a>"
      ],
      "text/plain": [
       "<IPython.core.display.HTML object>"
      ]
     },
     "metadata": {},
     "output_type": "display_data"
    },
    {
     "data": {
      "text/html": [
       "<a href=\"http://www.google.com/maps/place/31.58333333329998,35.70000000000012\" target=\"blank\">Kerioth</a>"
      ],
      "text/plain": [
       "<IPython.core.display.HTML object>"
      ]
     },
     "metadata": {},
     "output_type": "display_data"
    },
    {
     "data": {
      "text/html": [
       "<a href=\"http://www.google.com/maps/place/31.162327,35.057114\" target=\"blank\">Moladah</a>"
      ],
      "text/plain": [
       "<IPython.core.display.HTML object>"
      ]
     },
     "metadata": {},
     "output_type": "display_data"
    },
    {
     "data": {
      "text/html": [
       "<a href=\"http://www.google.com/maps/place/31.37760000000001,34.87356199999998\" target=\"blank\">Ziklag</a>"
      ],
      "text/plain": [
       "<IPython.core.display.HTML object>"
      ]
     },
     "metadata": {},
     "output_type": "display_data"
    },
    {
     "data": {
      "text/html": [
       "<a href=\"http://www.google.com/maps/place/31.391668,34.940502\" target=\"blank\">Madmannah</a>"
      ],
      "text/plain": [
       "<IPython.core.display.HTML object>"
      ]
     },
     "metadata": {},
     "output_type": "display_data"
    },
    {
     "data": {
      "text/html": [
       "<a href=\"http://www.google.com/maps/place/31.282222,34.4825\" target=\"blank\">Shilhim</a>"
      ],
      "text/plain": [
       "<IPython.core.display.HTML object>"
      ]
     },
     "metadata": {},
     "output_type": "display_data"
    },
    {
     "data": {
      "text/html": [
       "<a href=\"http://www.google.com/maps/place/31.782429,35.009012\" target=\"blank\">Eshtaol</a>"
      ],
      "text/plain": [
       "<IPython.core.display.HTML object>"
      ]
     },
     "metadata": {},
     "output_type": "display_data"
    },
    {
     "data": {
      "text/html": [
       "<a href=\"http://www.google.com/maps/place/31.762141,34.969319\" target=\"blank\">Zorah</a>"
      ],
      "text/plain": [
       "<IPython.core.display.HTML object>"
      ]
     },
     "metadata": {},
     "output_type": "display_data"
    },
    {
     "data": {
      "text/html": [
       "<a href=\"http://www.google.com/maps/place/31.823337,34.777779\" target=\"blank\">Gederah</a>"
      ],
      "text/plain": [
       "<IPython.core.display.HTML object>"
      ]
     },
     "metadata": {},
     "output_type": "display_data"
    },
    {
     "data": {
      "text/html": [
       "<a href=\"http://www.google.com/maps/place/31.679512,34.695903\" target=\"blank\">Hadashah</a>"
      ],
      "text/plain": [
       "<IPython.core.display.HTML object>"
      ]
     },
     "metadata": {},
     "output_type": "display_data"
    },
    {
     "data": {
      "text/html": [
       "<a href=\"http://www.google.com/maps/place/31.871782,34.871894\" target=\"blank\">Naamah</a>"
      ],
      "text/plain": [
       "<IPython.core.display.HTML object>"
      ]
     },
     "metadata": {},
     "output_type": "display_data"
    },
    {
     "data": {
      "text/html": [
       "<a href=\"http://www.google.com/maps/place/31.58805,34.992389\" target=\"blank\">Nezib</a>"
      ],
      "text/plain": [
       "<IPython.core.display.HTML object>"
      ]
     },
     "metadata": {},
     "output_type": "display_data"
    },
    {
     "data": {
      "text/html": [
       "<a href=\"http://www.google.com/maps/place/31.614175,35.002752\" target=\"blank\">Keilah</a>"
      ],
      "text/plain": [
       "<IPython.core.display.HTML object>"
      ]
     },
     "metadata": {},
     "output_type": "display_data"
    },
    {
     "data": {
      "text/html": [
       "<a href=\"http://www.google.com/maps/place/31.60393321295081,34.90237777777779\" target=\"blank\">Mareshah</a>"
      ],
      "text/plain": [
       "<IPython.core.display.HTML object>"
      ]
     },
     "metadata": {},
     "output_type": "display_data"
    },
    {
     "data": {
      "text/html": [
       "<a href=\"http://www.google.com/maps/place/31.40143851886152,35.06941349210527\" target=\"blank\">Jattir</a>"
      ],
      "text/plain": [
       "<IPython.core.display.HTML object>"
      ]
     },
     "metadata": {},
     "output_type": "display_data"
    },
    {
     "data": {
      "text/html": [
       "<a href=\"http://www.google.com/maps/place/31.561025,34.975472\" target=\"blank\">Dannah</a>"
      ],
      "text/plain": [
       "<IPython.core.display.HTML object>"
      ]
     },
     "metadata": {},
     "output_type": "display_data"
    },
    {
     "data": {
      "text/html": [
       "<a href=\"http://www.google.com/maps/place/31.373521,35.074552\" target=\"blank\">Eshtemoa</a>"
      ],
      "text/plain": [
       "<IPython.core.display.HTML object>"
      ]
     },
     "metadata": {},
     "output_type": "display_data"
    },
    {
     "data": {
      "text/html": [
       "<a href=\"http://www.google.com/maps/place/31.373521,35.074552\" target=\"blank\">Anim</a>"
      ],
      "text/plain": [
       "<IPython.core.display.HTML object>"
      ]
     },
     "metadata": {},
     "output_type": "display_data"
    },
    {
     "data": {
      "text/html": [
       "<a href=\"http://www.google.com/maps/place/31.616667,35.083333\" target=\"blank\">Giloh</a>"
      ],
      "text/plain": [
       "<IPython.core.display.HTML object>"
      ]
     },
     "metadata": {},
     "output_type": "display_data"
    },
    {
     "data": {
      "text/html": [
       "<a href=\"http://www.google.com/maps/place/32.154887,35.318192\" target=\"blank\">Rumah</a>"
      ],
      "text/plain": [
       "<IPython.core.display.HTML object>"
      ]
     },
     "metadata": {},
     "output_type": "display_data"
    },
    {
     "data": {
      "text/html": [
       "<a href=\"http://www.google.com/maps/place/31.420175,35.033537\" target=\"blank\">Eshan</a>"
      ],
      "text/plain": [
       "<IPython.core.display.HTML object>"
      ]
     },
     "metadata": {},
     "output_type": "display_data"
    },
    {
     "data": {
      "text/html": [
       "<a href=\"http://www.google.com/maps/place/31.516667,35.166667\" target=\"blank\">Janim</a>"
      ],
      "text/plain": [
       "<IPython.core.display.HTML object>"
      ]
     },
     "metadata": {},
     "output_type": "display_data"
    },
    {
     "data": {
      "text/html": [
       "<a href=\"http://www.google.com/maps/place/32.1047126614992,34.93197921211777\" target=\"blank\">Aphekah</a>"
      ],
      "text/plain": [
       "<IPython.core.display.HTML object>"
      ]
     },
     "metadata": {},
     "output_type": "display_data"
    },
    {
     "data": {
      "text/html": [
       "<a href=\"http://www.google.com/maps/place/31.589719,35.148296\" target=\"blank\">Zior</a>"
      ],
      "text/plain": [
       "<IPython.core.display.HTML object>"
      ]
     },
     "metadata": {},
     "output_type": "display_data"
    },
    {
     "data": {
      "text/html": [
       "<a href=\"http://www.google.com/maps/place/31.41666666666668,35.1166666666667\" target=\"blank\">Maon</a>"
      ],
      "text/plain": [
       "<IPython.core.display.HTML object>"
      ]
     },
     "metadata": {},
     "output_type": "display_data"
    },
    {
     "data": {
      "text/html": [
       "<a href=\"http://www.google.com/maps/place/31.45,35.083333\" target=\"blank\">Juttah</a>"
      ],
      "text/plain": [
       "<IPython.core.display.HTML object>"
      ]
     },
     "metadata": {},
     "output_type": "display_data"
    },
    {
     "data": {
      "text/html": [
       "<a href=\"http://www.google.com/maps/place/31.5,35.166667\" target=\"blank\">Kain</a>"
      ],
      "text/plain": [
       "<IPython.core.display.HTML object>"
      ]
     },
     "metadata": {},
     "output_type": "display_data"
    },
    {
     "data": {
      "text/html": [
       "<a href=\"http://www.google.com/maps/place/31.579549,35.099103\" target=\"blank\">Halhul</a>"
      ],
      "text/plain": [
       "<IPython.core.display.HTML object>"
      ]
     },
     "metadata": {},
     "output_type": "display_data"
    },
    {
     "data": {
      "text/html": [
       "<a href=\"http://www.google.com/maps/place/31.621003,35.102328\" target=\"blank\">Maarath</a>"
      ],
      "text/plain": [
       "<IPython.core.display.HTML object>"
      ]
     },
     "metadata": {},
     "output_type": "display_data"
    },
    {
     "data": {
      "text/html": [
       "<a href=\"http://www.google.com/maps/place/31.66057,34.995406\" target=\"blank\">Eltekon</a>"
      ],
      "text/plain": [
       "<IPython.core.display.HTML object>"
      ]
     },
     "metadata": {},
     "output_type": "display_data"
    },
    {
     "data": {
      "text/html": [
       "<a href=\"http://www.google.com/maps/place/31.743894,35.401591\" target=\"blank\">Middin</a>"
      ],
      "text/plain": [
       "<IPython.core.display.HTML object>"
      ]
     },
     "metadata": {},
     "output_type": "display_data"
    },
    {
     "data": {
      "text/html": [
       "<a href=\"http://www.google.com/maps/place/31.766667,35.283333\" target=\"blank\">Secacah</a>"
      ],
      "text/plain": [
       "<IPython.core.display.HTML object>"
      ]
     },
     "metadata": {},
     "output_type": "display_data"
    },
    {
     "data": {
      "text/html": [
       "<a href=\"http://www.google.com/maps/place/32.45,35.2833\" target=\"blank\">Ibleam</a>"
      ],
      "text/plain": [
       "<IPython.core.display.HTML object>"
      ]
     },
     "metadata": {},
     "output_type": "display_data"
    },
    {
     "data": {
      "text/html": [
       "<a href=\"http://www.google.com/maps/place/32.61323618394521,34.91889683434057\" target=\"blank\">Dor</a>"
      ],
      "text/plain": [
       "<IPython.core.display.HTML object>"
      ]
     },
     "metadata": {},
     "output_type": "display_data"
    },
    {
     "data": {
      "text/html": [
       "<a href=\"http://www.google.com/maps/place/32.05570050712985,35.28952869712683\" target=\"blank\">Shiloh</a>"
      ],
      "text/plain": [
       "<IPython.core.display.HTML object>"
      ]
     },
     "metadata": {},
     "output_type": "display_data"
    },
    {
     "data": {
      "text/html": [
       "<a href=\"http://www.google.com/maps/place/31.86378328132916,35.51854651224448\" target=\"blank\">Geliloth</a>"
      ],
      "text/plain": [
       "<IPython.core.display.HTML object>"
      ]
     },
     "metadata": {},
     "output_type": "display_data"
    },
    {
     "data": {
      "text/html": [
       "<a href=\"http://www.google.com/maps/place/31.833333,35.3\" target=\"blank\">Parah</a>"
      ],
      "text/plain": [
       "<IPython.core.display.HTML object>"
      ]
     },
     "metadata": {},
     "output_type": "display_data"
    },
    {
     "data": {
      "text/html": [
       "<a href=\"http://www.google.com/maps/place/31.961989,35.215483\" target=\"blank\">Ophni</a>"
      ],
      "text/plain": [
       "<IPython.core.display.HTML object>"
      ]
     },
     "metadata": {},
     "output_type": "display_data"
    },
    {
     "data": {
      "text/html": [
       "<a href=\"http://www.google.com/maps/place/31.802641,35.158376\" target=\"blank\">Mozah</a>"
      ],
      "text/plain": [
       "<IPython.core.display.HTML object>"
      ]
     },
     "metadata": {},
     "output_type": "display_data"
    },
    {
     "data": {
      "text/html": [
       "<a href=\"http://www.google.com/maps/place/31.869343,35.197712\" target=\"blank\">Irpeel</a>"
      ],
      "text/plain": [
       "<IPython.core.display.HTML object>"
      ]
     },
     "metadata": {},
     "output_type": "display_data"
    },
    {
     "data": {
      "text/html": [
       "<a href=\"http://www.google.com/maps/place/31.282222,34.4825\" target=\"blank\">Sharuhen</a>"
      ],
      "text/plain": [
       "<IPython.core.display.HTML object>"
      ]
     },
     "metadata": {},
     "output_type": "display_data"
    },
    {
     "data": {
      "text/html": [
       "<a href=\"http://www.google.com/maps/place/32.68978573733861,35.19666870006055\" target=\"blank\">Sarid</a>"
      ],
      "text/plain": [
       "<IPython.core.display.HTML object>"
      ]
     },
     "metadata": {},
     "output_type": "display_data"
    },
    {
     "data": {
      "text/html": [
       "<a href=\"http://www.google.com/maps/place/33.0,35.266682\" target=\"blank\">Dabbesheth</a>"
      ],
      "text/plain": [
       "<IPython.core.display.HTML object>"
      ]
     },
     "metadata": {},
     "output_type": "display_data"
    },
    {
     "data": {
      "text/html": [
       "<a href=\"http://www.google.com/maps/place/32.69171267584284,35.37171031061986\" target=\"blank\">Daberath</a>"
      ],
      "text/plain": [
       "<IPython.core.display.HTML object>"
      ]
     },
     "metadata": {},
     "output_type": "display_data"
    },
    {
     "data": {
      "text/html": [
       "<a href=\"http://www.google.com/maps/place/32.691633,35.274955\" target=\"blank\">Japhia</a>"
      ],
      "text/plain": [
       "<IPython.core.display.HTML object>"
      ]
     },
     "metadata": {},
     "output_type": "display_data"
    },
    {
     "data": {
      "text/html": [
       "<a href=\"http://www.google.com/maps/place/32.894254,35.221877\" target=\"blank\">Neah</a>"
      ],
      "text/plain": [
       "<IPython.core.display.HTML object>"
      ]
     },
     "metadata": {},
     "output_type": "display_data"
    },
    {
     "data": {
      "text/html": [
       "<a href=\"http://www.google.com/maps/place/32.916002,35.426637\" target=\"blank\">Hannathon</a>"
      ],
      "text/plain": [
       "<IPython.core.display.HTML object>"
      ]
     },
     "metadata": {},
     "output_type": "display_data"
    },
    {
     "data": {
      "text/html": [
       "<a href=\"http://www.google.com/maps/place/32.753141,35.279335\" target=\"blank\">Kattath</a>"
      ],
      "text/plain": [
       "<IPython.core.display.HTML object>"
      ]
     },
     "metadata": {},
     "output_type": "display_data"
    },
    {
     "data": {
      "text/html": [
       "<a href=\"http://www.google.com/maps/place/32.722209,35.35282\" target=\"blank\">Nahalal</a>"
      ],
      "text/plain": [
       "<IPython.core.display.HTML object>"
      ]
     },
     "metadata": {},
     "output_type": "display_data"
    },
    {
     "data": {
      "text/html": [
       "<a href=\"http://www.google.com/maps/place/32.733333,35.166667\" target=\"blank\">Idalah</a>"
      ],
      "text/plain": [
       "<IPython.core.display.HTML object>"
      ]
     },
     "metadata": {},
     "output_type": "display_data"
    },
    {
     "data": {
      "text/html": [
       "<a href=\"http://www.google.com/maps/place/32.60563102234625,35.33430585716489\" target=\"blank\">Shunem</a>"
      ],
      "text/plain": [
       "<IPython.core.display.HTML object>"
      ]
     },
     "metadata": {},
     "output_type": "display_data"
    },
    {
     "data": {
      "text/html": [
       "<a href=\"http://www.google.com/maps/place/32.60868269540592,35.28826433084549\" target=\"blank\">Hapharaim</a>"
      ],
      "text/plain": [
       "<IPython.core.display.HTML object>"
      ]
     },
     "metadata": {},
     "output_type": "display_data"
    },
    {
     "data": {
      "text/html": [
       "<a href=\"http://www.google.com/maps/place/32.716666,35.333334\" target=\"blank\">Shion</a>"
      ],
      "text/plain": [
       "<IPython.core.display.HTML object>"
      ]
     },
     "metadata": {},
     "output_type": "display_data"
    },
    {
     "data": {
      "text/html": [
       "<a href=\"http://www.google.com/maps/place/32.607039,35.397389\" target=\"blank\">Anaharath</a>"
      ],
      "text/plain": [
       "<IPython.core.display.HTML object>"
      ]
     },
     "metadata": {},
     "output_type": "display_data"
    },
    {
     "data": {
      "text/html": [
       "<a href=\"http://www.google.com/maps/place/32.391416,35.377302\" target=\"blank\">Rabbith</a>"
      ],
      "text/plain": [
       "<IPython.core.display.HTML object>"
      ]
     },
     "metadata": {},
     "output_type": "display_data"
    },
    {
     "data": {
      "text/html": [
       "<a href=\"http://www.google.com/maps/place/32.559061,35.246206\" target=\"blank\">Kishion</a>"
      ],
      "text/plain": [
       "<IPython.core.display.HTML object>"
      ]
     },
     "metadata": {},
     "output_type": "display_data"
    },
    {
     "data": {
      "text/html": [
       "<a href=\"http://www.google.com/maps/place/32.261621,35.328129\" target=\"blank\">Ebez</a>"
      ],
      "text/plain": [
       "<IPython.core.display.HTML object>"
      ]
     },
     "metadata": {},
     "output_type": "display_data"
    },
    {
     "data": {
      "text/html": [
       "<a href=\"http://www.google.com/maps/place/32.955448,35.211971\" target=\"blank\">Helkath</a>"
      ],
      "text/plain": [
       "<IPython.core.display.HTML object>"
      ]
     },
     "metadata": {},
     "output_type": "display_data"
    },
    {
     "data": {
      "text/html": [
       "<a href=\"http://www.google.com/maps/place/32.934736,35.270799\" target=\"blank\">Beten</a>"
      ],
      "text/plain": [
       "<IPython.core.display.HTML object>"
      ]
     },
     "metadata": {},
     "output_type": "display_data"
    },
    {
     "data": {
      "text/html": [
       "<a href=\"http://www.google.com/maps/place/33.019337,35.173644\" target=\"blank\">Amad</a>"
      ],
      "text/plain": [
       "<IPython.core.display.HTML object>"
      ]
     },
     "metadata": {},
     "output_type": "display_data"
    },
    {
     "data": {
      "text/html": [
       "<a href=\"http://www.google.com/maps/place/32.894254,35.221877\" target=\"blank\">Neiel</a>"
      ],
      "text/plain": [
       "<IPython.core.display.HTML object>"
      ]
     },
     "metadata": {},
     "output_type": "display_data"
    },
    {
     "data": {
      "text/html": [
       "<a href=\"http://www.google.com/maps/place/33.047808,35.146201\" target=\"blank\">Abdon</a>"
      ],
      "text/plain": [
       "<IPython.core.display.HTML object>"
      ]
     },
     "metadata": {},
     "output_type": "display_data"
    },
    {
     "data": {
      "text/html": [
       "<a href=\"http://www.google.com/maps/place/33.125828,35.165\" target=\"blank\">Hammon</a>"
      ],
      "text/plain": [
       "<IPython.core.display.HTML object>"
      ]
     },
     "metadata": {},
     "output_type": "display_data"
    },
    {
     "data": {
      "text/html": [
       "<a href=\"http://www.google.com/maps/place/32.178502,35.22758\" target=\"blank\">Hosah</a>"
      ],
      "text/plain": [
       "<IPython.core.display.HTML object>"
      ]
     },
     "metadata": {},
     "output_type": "display_data"
    },
    {
     "data": {
      "text/html": [
       "<a href=\"http://www.google.com/maps/place/33.104377,35.180623\" target=\"blank\">Ummah</a>"
      ],
      "text/plain": [
       "<IPython.core.display.HTML object>"
      ]
     },
     "metadata": {},
     "output_type": "display_data"
    },
    {
     "data": {
      "text/html": [
       "<a href=\"http://www.google.com/maps/place/33.134416,35.332157\" target=\"blank\">Heleph</a>"
      ],
      "text/plain": [
       "<IPython.core.display.HTML object>"
      ]
     },
     "metadata": {},
     "output_type": "display_data"
    },
    {
     "data": {
      "text/html": [
       "<a href=\"http://www.google.com/maps/place/32.6105,35.54289\" target=\"blank\">Adami-nekeb</a>"
      ],
      "text/plain": [
       "<IPython.core.display.HTML object>"
      ]
     },
     "metadata": {},
     "output_type": "display_data"
    },
    {
     "data": {
      "text/html": [
       "<a href=\"http://www.google.com/maps/place/32.882153,35.496694\" target=\"blank\">Hukkok</a>"
      ],
      "text/plain": [
       "<IPython.core.display.HTML object>"
      ]
     },
     "metadata": {},
     "output_type": "display_data"
    },
    {
     "data": {
      "text/html": [
       "<a href=\"http://www.google.com/maps/place/32.814279,35.435872\" target=\"blank\">Ziddim</a>"
      ],
      "text/plain": [
       "<IPython.core.display.HTML object>"
      ]
     },
     "metadata": {},
     "output_type": "display_data"
    },
    {
     "data": {
      "text/html": [
       "<a href=\"http://www.google.com/maps/place/33.125828,35.165\" target=\"blank\">Hammath</a>"
      ],
      "text/plain": [
       "<IPython.core.display.HTML object>"
      ]
     },
     "metadata": {},
     "output_type": "display_data"
    },
    {
     "data": {
      "text/html": [
       "<a href=\"http://www.google.com/maps/place/32.79553799444466,35.52922039819518\" target=\"blank\">Rakkath</a>"
      ],
      "text/plain": [
       "<IPython.core.display.HTML object>"
      ]
     },
     "metadata": {},
     "output_type": "display_data"
    },
    {
     "data": {
      "text/html": [
       "<a href=\"http://www.google.com/maps/place/33.166667,35.433333\" target=\"blank\">Horem</a>"
      ],
      "text/plain": [
       "<IPython.core.display.HTML object>"
      ]
     },
     "metadata": {},
     "output_type": "display_data"
    },
    {
     "data": {
      "text/html": [
       "<a href=\"http://www.google.com/maps/place/31.870364,34.981728\" target=\"blank\">Shaalabbin</a>"
      ],
      "text/plain": [
       "<IPython.core.display.HTML object>"
      ]
     },
     "metadata": {},
     "output_type": "display_data"
    },
    {
     "data": {
      "text/html": [
       "<a href=\"http://www.google.com/maps/place/31.823593,35.075769\" target=\"blank\">Ithlah</a>"
      ],
      "text/plain": [
       "<IPython.core.display.HTML object>"
      ]
     },
     "metadata": {},
     "output_type": "display_data"
    },
    {
     "data": {
      "text/html": [
       "<a href=\"http://www.google.com/maps/place/31.973818,35.116531\" target=\"blank\">Elon</a>"
      ],
      "text/plain": [
       "<IPython.core.display.HTML object>"
      ]
     },
     "metadata": {},
     "output_type": "display_data"
    },
    {
     "data": {
      "text/html": [
       "<a href=\"http://www.google.com/maps/place/31.869521,35.06688\" target=\"blank\">Eltekeh</a>"
      ],
      "text/plain": [
       "<IPython.core.display.HTML object>"
      ]
     },
     "metadata": {},
     "output_type": "display_data"
    },
    {
     "data": {
      "text/html": [
       "<a href=\"http://www.google.com/maps/place/31.976623,35.004896\" target=\"blank\">Gibbethon</a>"
      ],
      "text/plain": [
       "<IPython.core.display.HTML object>"
      ]
     },
     "metadata": {},
     "output_type": "display_data"
    },
    {
     "data": {
      "text/html": [
       "<a href=\"http://www.google.com/maps/place/32.033636,34.889599\" target=\"blank\">Jehud</a>"
      ],
      "text/plain": [
       "<IPython.core.display.HTML object>"
      ]
     },
     "metadata": {},
     "output_type": "display_data"
    },
    {
     "data": {
      "text/html": [
       "<a href=\"http://www.google.com/maps/place/32.132898,34.788144\" target=\"blank\">Rakkon</a>"
      ],
      "text/plain": [
       "<IPython.core.display.HTML object>"
      ]
     },
     "metadata": {},
     "output_type": "display_data"
    },
    {
     "data": {
      "text/html": [
       "<a href=\"http://www.google.com/maps/place/32.05351968494696,34.75042606009946\" target=\"blank\">Joppa</a>"
      ],
      "text/plain": [
       "<IPython.core.display.HTML object>"
      ]
     },
     "metadata": {},
     "output_type": "display_data"
    },
    {
     "data": {
      "text/html": [
       "<a href=\"http://www.google.com/maps/place/33.24865997897308,35.65248345039043\" target=\"blank\">Leshem</a>"
      ],
      "text/plain": [
       "<IPython.core.display.HTML object>"
      ]
     },
     "metadata": {},
     "output_type": "display_data"
    },
    {
     "data": {
      "text/html": [
       "<a href=\"http://www.google.com/maps/place/32.70674542474383,35.30152807767973\" target=\"blank\">Galilee</a>"
      ],
      "text/plain": [
       "<IPython.core.display.HTML object>"
      ]
     },
     "metadata": {},
     "output_type": "display_data"
    },
    {
     "data": {
      "text/html": [
       "<a href=\"http://www.google.com/maps/place/31.828406,35.287637\" target=\"blank\">Almon</a>"
      ],
      "text/plain": [
       "<IPython.core.display.HTML object>"
      ]
     },
     "metadata": {},
     "output_type": "display_data"
    },
    {
     "data": {
      "text/html": [
       "<a href=\"http://www.google.com/maps/place/31.833333,35.3\" target=\"blank\">Kibzaim</a>"
      ],
      "text/plain": [
       "<IPython.core.display.HTML object>"
      ]
     },
     "metadata": {},
     "output_type": "display_data"
    },
    {
     "data": {
      "text/html": [
       "<a href=\"http://www.google.com/maps/place/33.047808,35.146201\" target=\"blank\">Abdon</a>"
      ],
      "text/plain": [
       "<IPython.core.display.HTML object>"
      ]
     },
     "metadata": {},
     "output_type": "display_data"
    },
    {
     "data": {
      "text/html": [
       "<a href=\"http://www.google.com/maps/place/32.753141,35.279335\" target=\"blank\">Kartah</a>"
      ],
      "text/plain": [
       "<IPython.core.display.HTML object>"
      ]
     },
     "metadata": {},
     "output_type": "display_data"
    },
    {
     "data": {
      "text/html": [
       "<a href=\"http://www.google.com/maps/place/32.781808,35.321364\" target=\"blank\">Dimnah</a>"
      ],
      "text/plain": [
       "<IPython.core.display.HTML object>"
      ]
     },
     "metadata": {},
     "output_type": "display_data"
    },
    {
     "data": {
      "text/html": [
       "<a href=\"http://www.google.com/maps/place/30.880918,34.63062\" target=\"blank\">Zephath</a>"
      ],
      "text/plain": [
       "<IPython.core.display.HTML object>"
      ]
     },
     "metadata": {},
     "output_type": "display_data"
    },
    {
     "data": {
      "text/html": [
       "<a href=\"http://www.google.com/maps/place/31.66240510553615,34.54722773494757\" target=\"blank\">Ashkelon</a>"
      ],
      "text/plain": [
       "<IPython.core.display.HTML object>"
      ]
     },
     "metadata": {},
     "output_type": "display_data"
    },
    {
     "data": {
      "text/html": [
       "<a href=\"http://www.google.com/maps/place/32.753141,35.279335\" target=\"blank\">Kitron</a>"
      ],
      "text/plain": [
       "<IPython.core.display.HTML object>"
      ]
     },
     "metadata": {},
     "output_type": "display_data"
    },
    {
     "data": {
      "text/html": [
       "<a href=\"http://www.google.com/maps/place/32.722209,35.35282\" target=\"blank\">Nahalol</a>"
      ],
      "text/plain": [
       "<IPython.core.display.HTML object>"
      ]
     },
     "metadata": {},
     "output_type": "display_data"
    },
    {
     "data": {
      "text/html": [
       "<a href=\"http://www.google.com/maps/place/32.927583,35.081555\" target=\"blank\">Acco</a>"
      ],
      "text/plain": [
       "<IPython.core.display.HTML object>"
      ]
     },
     "metadata": {},
     "output_type": "display_data"
    },
    {
     "data": {
      "text/html": [
       "<a href=\"http://www.google.com/maps/place/33.02498036359259,35.44544657992798\" target=\"blank\">Ahlab</a>"
      ],
      "text/plain": [
       "<IPython.core.display.HTML object>"
      ]
     },
     "metadata": {},
     "output_type": "display_data"
    },
    {
     "data": {
      "text/html": [
       "<a href=\"http://www.google.com/maps/place/31.75274835811488,34.97660913147738\" target=\"blank\">Mount Heres</a>"
      ],
      "text/plain": [
       "<IPython.core.display.HTML object>"
      ]
     },
     "metadata": {},
     "output_type": "display_data"
    },
    {
     "data": {
      "text/html": [
       "<a href=\"http://www.google.com/maps/place/31.870364,34.981728\" target=\"blank\">Shaalbim</a>"
      ],
      "text/plain": [
       "<IPython.core.display.HTML object>"
      ]
     },
     "metadata": {},
     "output_type": "display_data"
    },
    {
     "data": {
      "text/html": [
       "<a href=\"http://www.google.com/maps/place/30.32243571223214,35.45627946919968\" target=\"blank\">Sela</a>"
      ],
      "text/plain": [
       "<IPython.core.display.HTML object>"
      ]
     },
     "metadata": {},
     "output_type": "display_data"
    },
    {
     "data": {
      "text/html": [
       "<a href=\"http://www.google.com/maps/place/32.761948,35.064096\" target=\"blank\">Kishon</a>"
      ],
      "text/plain": [
       "<IPython.core.display.HTML object>"
      ]
     },
     "metadata": {},
     "output_type": "display_data"
    },
    {
     "data": {
      "text/html": [
       "<a href=\"http://www.google.com/maps/place/32.267821,35.576613\" target=\"blank\">Zererah</a>"
      ],
      "text/plain": [
       "<IPython.core.display.HTML object>"
      ]
     },
     "metadata": {},
     "output_type": "display_data"
    },
    {
     "data": {
      "text/html": [
       "<a href=\"http://www.google.com/maps/place/32.154887,35.318192\" target=\"blank\">Arumah</a>"
      ],
      "text/plain": [
       "<IPython.core.display.HTML object>"
      ]
     },
     "metadata": {},
     "output_type": "display_data"
    },
    {
     "data": {
      "text/html": [
       "<a href=\"http://www.google.com/maps/place/32.23293813761263,35.27304180036391\" target=\"blank\">Zalmon</a>"
      ],
      "text/plain": [
       "<IPython.core.display.HTML object>"
      ]
     },
     "metadata": {},
     "output_type": "display_data"
    },
    {
     "data": {
      "text/html": [
       "<a href=\"http://www.google.com/maps/place/32.3241024517848,35.36825275634464\" target=\"blank\">Thebez</a>"
      ],
      "text/plain": [
       "<IPython.core.display.HTML object>"
      ]
     },
     "metadata": {},
     "output_type": "display_data"
    },
    {
     "data": {
      "text/html": [
       "<a href=\"http://www.google.com/maps/place/32.042523,35.724241\" target=\"blank\">Kamon</a>"
      ],
      "text/plain": [
       "<IPython.core.display.HTML object>"
      ]
     },
     "metadata": {},
     "output_type": "display_data"
    },
    {
     "data": {
      "text/html": [
       "<a href=\"http://www.google.com/maps/place/32.561735,36.240494\" target=\"blank\">Tob</a>"
      ],
      "text/plain": [
       "<IPython.core.display.HTML object>"
      ]
     },
     "metadata": {},
     "output_type": "display_data"
    },
    {
     "data": {
      "text/html": [
       "<a href=\"http://www.google.com/maps/place/31.75,35.85\" target=\"blank\">Minnith</a>"
      ],
      "text/plain": [
       "<IPython.core.display.HTML object>"
      ]
     },
     "metadata": {},
     "output_type": "display_data"
    },
    {
     "data": {
      "text/html": [
       "<a href=\"http://www.google.com/maps/place/32.286022,35.022944\" target=\"blank\">Pirathon</a>"
      ],
      "text/plain": [
       "<IPython.core.display.HTML object>"
      ]
     },
     "metadata": {},
     "output_type": "display_data"
    },
    {
     "data": {
      "text/html": [
       "<a href=\"http://www.google.com/maps/place/31.777444,35.234935\" target=\"blank\">Jebus</a>"
      ],
      "text/plain": [
       "<IPython.core.display.HTML object>"
      ]
     },
     "metadata": {},
     "output_type": "display_data"
    },
    {
     "data": {
      "text/html": [
       "<a href=\"http://www.google.com/maps/place/32.37982175236296,35.61158746493092\" target=\"blank\">Jabesh</a>"
      ],
      "text/plain": [
       "<IPython.core.display.HTML object>"
      ]
     },
     "metadata": {},
     "output_type": "display_data"
    },
    {
     "data": {
      "text/html": [
       "<a href=\"http://www.google.com/maps/place/32.07077,35.239871\" target=\"blank\">Lebonah</a>"
      ],
      "text/plain": [
       "<IPython.core.display.HTML object>"
      ]
     },
     "metadata": {},
     "output_type": "display_data"
    },
    {
     "data": {
      "text/html": [
       "<a href=\"http://www.google.com/maps/place/31.717666,35.187019\" target=\"blank\">Zelzah</a>"
      ],
      "text/plain": [
       "<IPython.core.display.HTML object>"
      ]
     },
     "metadata": {},
     "output_type": "display_data"
    },
    {
     "data": {
      "text/html": [
       "<a href=\"http://www.google.com/maps/place/31.10182240291489,35.47633656511371\" target=\"blank\">Zeboim</a>"
      ],
      "text/plain": [
       "<IPython.core.display.HTML object>"
      ]
     },
     "metadata": {},
     "output_type": "display_data"
    },
    {
     "data": {
      "text/html": [
       "<a href=\"http://www.google.com/maps/place/31.85716450320853,35.28714718824809\" target=\"blank\">Bozez</a>"
      ],
      "text/plain": [
       "<IPython.core.display.HTML object>"
      ]
     },
     "metadata": {},
     "output_type": "display_data"
    },
    {
     "data": {
      "text/html": [
       "<a href=\"http://www.google.com/maps/place/31.85309428405443,35.28616916703533\" target=\"blank\">Seneh</a>"
      ],
      "text/plain": [
       "<IPython.core.display.HTML object>"
      ]
     },
     "metadata": {},
     "output_type": "display_data"
    },
    {
     "data": {
      "text/html": [
       "<a href=\"http://www.google.com/maps/place/34.312571,36.925484\" target=\"blank\">Zobah</a>"
      ],
      "text/plain": [
       "<IPython.core.display.HTML object>"
      ]
     },
     "metadata": {},
     "output_type": "display_data"
    },
    {
     "data": {
      "text/html": [
       "<a href=\"http://www.google.com/maps/place/31.883333,35.2\" target=\"blank\">Secu</a>"
      ],
      "text/plain": [
       "<IPython.core.display.HTML object>"
      ]
     },
     "metadata": {},
     "output_type": "display_data"
    },
    {
     "data": {
      "text/html": [
       "<a href=\"http://www.google.com/maps/place/31.799605,35.23298\" target=\"blank\">Nob</a>"
      ],
      "text/plain": [
       "<IPython.core.display.HTML object>"
      ]
     },
     "metadata": {},
     "output_type": "display_data"
    },
    {
     "data": {
      "text/html": [
       "<a href=\"http://www.google.com/maps/place/31.621492,35.029273\" target=\"blank\">Hereth</a>"
      ],
      "text/plain": [
       "<IPython.core.display.HTML object>"
      ]
     },
     "metadata": {},
     "output_type": "display_data"
    },
    {
     "data": {
      "text/html": [
       "<a href=\"http://www.google.com/maps/place/31.45113920529978,35.08840337232346\" target=\"blank\">Horesh</a>"
      ],
      "text/plain": [
       "<IPython.core.display.HTML object>"
      ]
     },
     "metadata": {},
     "output_type": "display_data"
    },
    {
     "data": {
      "text/html": [
       "<a href=\"http://www.google.com/maps/place/31.816667,35.25\" target=\"blank\">Gallim</a>"
      ],
      "text/plain": [
       "<IPython.core.display.HTML object>"
      ]
     },
     "metadata": {},
     "output_type": "display_data"
    },
    {
     "data": {
      "text/html": [
       "<a href=\"http://www.google.com/maps/place/32.516667,35.4\" target=\"blank\">Gilboa</a>"
      ],
      "text/plain": [
       "<IPython.core.display.HTML object>"
      ]
     },
     "metadata": {},
     "output_type": "display_data"
    },
    {
     "data": {
      "text/html": [
       "<a href=\"http://www.google.com/maps/place/31.398056,34.436667\" target=\"blank\">Besor</a>"
      ],
      "text/plain": [
       "<IPython.core.display.HTML object>"
      ]
     },
     "metadata": {},
     "output_type": "display_data"
    },
    {
     "data": {
      "text/html": [
       "<a href=\"http://www.google.com/maps/place/31.43333151674604,35.13333188530802\" target=\"blank\">Racal</a>"
      ],
      "text/plain": [
       "<IPython.core.display.HTML object>"
      ]
     },
     "metadata": {},
     "output_type": "display_data"
    },
    {
     "data": {
      "text/html": [
       "<a href=\"http://www.google.com/maps/place/31.777444,35.234935\" target=\"blank\">Zion</a>"
      ],
      "text/plain": [
       "<IPython.core.display.HTML object>"
      ]
     },
     "metadata": {},
     "output_type": "display_data"
    },
    {
     "data": {
      "text/html": [
       "<a href=\"http://www.google.com/maps/place/33.93148,36.152049\" target=\"blank\">Berothai</a>"
      ],
      "text/plain": [
       "<IPython.core.display.HTML object>"
      ]
     },
     "metadata": {},
     "output_type": "display_data"
    },
    {
     "data": {
      "text/html": [
       "<a href=\"http://www.google.com/maps/place/31.63622127191993,35.21407721824517\" target=\"blank\">Tekoa</a>"
      ],
      "text/plain": [
       "<IPython.core.display.HTML object>"
      ]
     },
     "metadata": {},
     "output_type": "display_data"
    },
    {
     "data": {
      "text/html": [
       "<a href=\"http://www.google.com/maps/place/31.772134,35.236596\" target=\"blank\">Kidron</a>"
      ],
      "text/plain": [
       "<IPython.core.display.HTML object>"
      ]
     },
     "metadata": {},
     "output_type": "display_data"
    },
    {
     "data": {
      "text/html": [
       "<a href=\"http://www.google.com/maps/place/33.26852614315892,35.57804682248786\" target=\"blank\">Abel</a>"
      ],
      "text/plain": [
       "<IPython.core.display.HTML object>"
      ]
     },
     "metadata": {},
     "output_type": "display_data"
    },
    {
     "data": {
      "text/html": [
       "<a href=\"http://www.google.com/maps/place/31.87611111111111,34.9225\" target=\"blank\">Gob</a>"
      ],
      "text/plain": [
       "<IPython.core.display.HTML object>"
      ]
     },
     "metadata": {},
     "output_type": "display_data"
    },
    {
     "data": {
      "text/html": [
       "<a href=\"http://www.google.com/maps/place/34.5540491686839,38.26590497164145\" target=\"blank\">Tadmor</a>"
      ],
      "text/plain": [
       "<IPython.core.display.HTML object>"
      ]
     },
     "metadata": {},
     "output_type": "display_data"
    },
    {
     "data": {
      "text/html": [
       "<a href=\"http://www.google.com/maps/place/27.4,37.7\" target=\"blank\">Arabia</a>"
      ],
      "text/plain": [
       "<IPython.core.display.HTML object>"
      ]
     },
     "metadata": {},
     "output_type": "display_data"
    },
    {
     "data": {
      "text/html": [
       "<a href=\"http://www.google.com/maps/place/32.28023100000001,35.19792900000002\" target=\"blank\">Samaria</a>"
      ],
      "text/plain": [
       "<IPython.core.display.HTML object>"
      ]
     },
     "metadata": {},
     "output_type": "display_data"
    },
    {
     "data": {
      "text/html": [
       "<a href=\"http://www.google.com/maps/place/33.32804402945069,35.61187505342423\" target=\"blank\">Ijon</a>"
      ],
      "text/plain": [
       "<IPython.core.display.HTML object>"
      ]
     },
     "metadata": {},
     "output_type": "display_data"
    },
    {
     "data": {
      "text/html": [
       "<a href=\"http://www.google.com/maps/place/33.26852614315892,35.57804682248786\" target=\"blank\">Abel-beth-maacah</a>"
      ],
      "text/plain": [
       "<IPython.core.display.HTML object>"
      ]
     },
     "metadata": {},
     "output_type": "display_data"
    },
    {
     "data": {
      "text/html": [
       "<a href=\"http://www.google.com/maps/place/33.4333,35.3\" target=\"blank\">Zarephath</a>"
      ],
      "text/plain": [
       "<IPython.core.display.HTML object>"
      ]
     },
     "metadata": {},
     "output_type": "display_data"
    },
    {
     "data": {
      "text/html": [
       "<a href=\"http://www.google.com/maps/place/33.68137,36.055039\" target=\"blank\">Amana</a>"
      ],
      "text/plain": [
       "<IPython.core.display.HTML object>"
      ]
     },
     "metadata": {},
     "output_type": "display_data"
    },
    {
     "data": {
      "text/html": [
       "<a href=\"http://www.google.com/maps/place/33.379601,36.306085\" target=\"blank\">Pharpar</a>"
      ],
      "text/plain": [
       "<IPython.core.display.HTML object>"
      ]
     },
     "metadata": {},
     "output_type": "display_data"
    },
    {
     "data": {
      "text/html": [
       "<a href=\"http://www.google.com/maps/place/31.777444,35.234935\" target=\"blank\">Ophel</a>"
      ],
      "text/plain": [
       "<IPython.core.display.HTML object>"
      ]
     },
     "metadata": {},
     "output_type": "display_data"
    },
    {
     "data": {
      "text/html": [
       "<a href=\"http://www.google.com/maps/place/30.9265225301655,35.4190606947832\" target=\"blank\">Zair</a>"
      ],
      "text/plain": [
       "<IPython.core.display.HTML object>"
      ]
     },
     "metadata": {},
     "output_type": "display_data"
    },
    {
     "data": {
      "text/html": [
       "<a href=\"http://www.google.com/maps/place/31.777444,35.234935\" target=\"blank\">Sur</a>"
      ],
      "text/plain": [
       "<IPython.core.display.HTML object>"
      ]
     },
     "metadata": {},
     "output_type": "display_data"
    },
    {
     "data": {
      "text/html": [
       "<a href=\"http://www.google.com/maps/place/31.18132579594509,35.70214779044711\" target=\"blank\">Kir</a>"
      ],
      "text/plain": [
       "<IPython.core.display.HTML object>"
      ]
     },
     "metadata": {},
     "output_type": "display_data"
    },
    {
     "data": {
      "text/html": [
       "<a href=\"http://www.google.com/maps/place/33.519299,36.31344999999999\" target=\"blank\">Damascus</a>"
      ],
      "text/plain": [
       "<IPython.core.display.HTML object>"
      ]
     },
     "metadata": {},
     "output_type": "display_data"
    },
    {
     "data": {
      "text/html": [
       "<a href=\"http://www.google.com/maps/place/36.344972,40.789333\" target=\"blank\">Habor</a>"
      ],
      "text/plain": [
       "<IPython.core.display.HTML object>"
      ]
     },
     "metadata": {},
     "output_type": "display_data"
    },
    {
     "data": {
      "text/html": [
       "<a href=\"http://www.google.com/maps/place/36.840013,40.06889\" target=\"blank\">Gozan</a>"
      ],
      "text/plain": [
       "<IPython.core.display.HTML object>"
      ]
     },
     "metadata": {},
     "output_type": "display_data"
    },
    {
     "data": {
      "text/html": [
       "<a href=\"http://www.google.com/maps/place/32.733333,44.666667\" target=\"blank\">Cuthah</a>"
      ],
      "text/plain": [
       "<IPython.core.display.HTML object>"
      ]
     },
     "metadata": {},
     "output_type": "display_data"
    },
    {
     "data": {
      "text/html": [
       "<a href=\"http://www.google.com/maps/place/34.467725,41.964955\" target=\"blank\">Hena</a>"
      ],
      "text/plain": [
       "<IPython.core.display.HTML object>"
      ]
     },
     "metadata": {},
     "output_type": "display_data"
    },
    {
     "data": {
      "text/html": [
       "<a href=\"http://www.google.com/maps/place/35.95,39.016667\" target=\"blank\">Rezeph</a>"
      ],
      "text/plain": [
       "<IPython.core.display.HTML object>"
      ]
     },
     "metadata": {},
     "output_type": "display_data"
    },
    {
     "data": {
      "text/html": [
       "<a href=\"http://www.google.com/maps/place/30.108086,31.33822\" target=\"blank\">Egypt</a>"
      ],
      "text/plain": [
       "<IPython.core.display.HTML object>"
      ]
     },
     "metadata": {},
     "output_type": "display_data"
    },
    {
     "data": {
      "text/html": [
       "<a href=\"http://www.google.com/maps/place/31.769079,35.227994\" target=\"blank\">Topheth</a>"
      ],
      "text/plain": [
       "<IPython.core.display.HTML object>"
      ]
     },
     "metadata": {},
     "output_type": "display_data"
    },
    {
     "data": {
      "text/html": [
       "<a href=\"http://www.google.com/maps/place/31.777444,35.234935\" target=\"blank\">Shiloah</a>"
      ],
      "text/plain": [
       "<IPython.core.display.HTML object>"
      ]
     },
     "metadata": {},
     "output_type": "display_data"
    },
    {
     "data": {
      "text/html": [
       "<a href=\"http://www.google.com/maps/place/36.82928161099629,38.01576051001015\" target=\"blank\">Carchemish</a>"
      ],
      "text/plain": [
       "<IPython.core.display.HTML object>"
      ]
     },
     "metadata": {},
     "output_type": "display_data"
    },
    {
     "data": {
      "text/html": [
       "<a href=\"http://www.google.com/maps/place/32.127213,45.229995\" target=\"blank\">Calno</a>"
      ],
      "text/plain": [
       "<IPython.core.display.HTML object>"
      ]
     },
     "metadata": {},
     "output_type": "display_data"
    },
    {
     "data": {
      "text/html": [
       "<a href=\"http://www.google.com/maps/place/31.91697811712517,35.26122639380886\" target=\"blank\">Aiath</a>"
      ],
      "text/plain": [
       "<IPython.core.display.HTML object>"
      ]
     },
     "metadata": {},
     "output_type": "display_data"
    },
    {
     "data": {
      "text/html": [
       "<a href=\"http://www.google.com/maps/place/31.8,35.25\" target=\"blank\">Laishah</a>"
      ],
      "text/plain": [
       "<IPython.core.display.HTML object>"
      ]
     },
     "metadata": {},
     "output_type": "display_data"
    },
    {
     "data": {
      "text/html": [
       "<a href=\"http://www.google.com/maps/place/31.8,35.25\" target=\"blank\">Gebim</a>"
      ],
      "text/plain": [
       "<IPython.core.display.HTML object>"
      ]
     },
     "metadata": {},
     "output_type": "display_data"
    },
    {
     "data": {
      "text/html": [
       "<a href=\"http://www.google.com/maps/place/31.50100308502659,35.92063125199366\" target=\"blank\">Jahaz</a>"
      ],
      "text/plain": [
       "<IPython.core.display.HTML object>"
      ]
     },
     "metadata": {},
     "output_type": "display_data"
    },
    {
     "data": {
      "text/html": [
       "<a href=\"http://www.google.com/maps/place/31.288056,35.515\" target=\"blank\">Horonaim</a>"
      ],
      "text/plain": [
       "<IPython.core.display.HTML object>"
      ]
     },
     "metadata": {},
     "output_type": "display_data"
    },
    {
     "data": {
      "text/html": [
       "<a href=\"http://www.google.com/maps/place/31.133191,35.531138\" target=\"blank\">Nimrim</a>"
      ],
      "text/plain": [
       "<IPython.core.display.HTML object>"
      ]
     },
     "metadata": {},
     "output_type": "display_data"
    },
    {
     "data": {
      "text/html": [
       "<a href=\"http://www.google.com/maps/place/29.849632,31.253958\" target=\"blank\">Memphis</a>"
      ],
      "text/plain": [
       "<IPython.core.display.HTML object>"
      ]
     },
     "metadata": {},
     "output_type": "display_data"
    },
    {
     "data": {
      "text/html": [
       "<a href=\"http://www.google.com/maps/place/29.085425,30.934402\" target=\"blank\">Hanes</a>"
      ],
      "text/plain": [
       "<IPython.core.display.HTML object>"
      ]
     },
     "metadata": {},
     "output_type": "display_data"
    },
    {
     "data": {
      "text/html": [
       "<a href=\"http://www.google.com/maps/place/30.860556,32.171389\" target=\"blank\">Tahpanhes</a>"
      ],
      "text/plain": [
       "<IPython.core.display.HTML object>"
      ]
     },
     "metadata": {},
     "output_type": "display_data"
    },
    {
     "data": {
      "text/html": [
       "<a href=\"http://www.google.com/maps/place/22.0,77.0\" target=\"blank\">Uphaz</a>"
      ],
      "text/plain": [
       "<IPython.core.display.HTML object>"
      ]
     },
     "metadata": {},
     "output_type": "display_data"
    },
    {
     "data": {
      "text/html": [
       "<a href=\"http://www.google.com/maps/place/30.0334,36.44839\" target=\"blank\">Uz</a>"
      ],
      "text/plain": [
       "<IPython.core.display.HTML object>"
      ]
     },
     "metadata": {},
     "output_type": "display_data"
    },
    {
     "data": {
      "text/html": [
       "<a href=\"http://www.google.com/maps/place/31.777444,35.234935\" target=\"blank\">Goah</a>"
      ],
      "text/plain": [
       "<IPython.core.display.HTML object>"
      ]
     },
     "metadata": {},
     "output_type": "display_data"
    },
    {
     "data": {
      "text/html": [
       "<a href=\"http://www.google.com/maps/place/25.700025,32.639441\" target=\"blank\">Thebes</a>"
      ],
      "text/plain": [
       "<IPython.core.display.HTML object>"
      ]
     },
     "metadata": {},
     "output_type": "display_data"
    },
    {
     "data": {
      "text/html": [
       "<a href=\"http://www.google.com/maps/place/32.53650368616845,44.42088287373876\" target=\"blank\">Merathaim</a>"
      ],
      "text/plain": [
       "<IPython.core.display.HTML object>"
      ]
     },
     "metadata": {},
     "output_type": "display_data"
    },
    {
     "data": {
      "text/html": [
       "<a href=\"http://www.google.com/maps/place/32.53650368616845,44.42088287373876\" target=\"blank\">Pekod</a>"
      ],
      "text/plain": [
       "<IPython.core.display.HTML object>"
      ]
     },
     "metadata": {},
     "output_type": "display_data"
    },
    {
     "data": {
      "text/html": [
       "<a href=\"http://www.google.com/maps/place/34.856082,35.858485\" target=\"blank\">Arvad</a>"
      ],
      "text/plain": [
       "<IPython.core.display.HTML object>"
      ]
     },
     "metadata": {},
     "output_type": "display_data"
    },
    {
     "data": {
      "text/html": [
       "<a href=\"http://www.google.com/maps/place/33.664912,36.248576\" target=\"blank\">Helbon</a>"
      ],
      "text/plain": [
       "<IPython.core.display.HTML object>"
      ]
     },
     "metadata": {},
     "output_type": "display_data"
    },
    {
     "data": {
      "text/html": [
       "<a href=\"http://www.google.com/maps/place/32.127213,45.229995\" target=\"blank\">Canneh</a>"
      ],
      "text/plain": [
       "<IPython.core.display.HTML object>"
      ]
     },
     "metadata": {},
     "output_type": "display_data"
    },
    {
     "data": {
      "text/html": [
       "<a href=\"http://www.google.com/maps/place/32.824979,21.858301\" target=\"blank\">Libya</a>"
      ],
      "text/plain": [
       "<IPython.core.display.HTML object>"
      ]
     },
     "metadata": {},
     "output_type": "display_data"
    },
    {
     "data": {
      "text/html": [
       "<a href=\"http://www.google.com/maps/place/28.838778,33.420573\" target=\"blank\">Sin</a>"
      ],
      "text/plain": [
       "<IPython.core.display.HTML object>"
      ]
     },
     "metadata": {},
     "output_type": "display_data"
    },
    {
     "data": {
      "text/html": [
       "<a href=\"http://www.google.com/maps/place/34.73799,36.340918\" target=\"blank\">Hethlon</a>"
      ],
      "text/plain": [
       "<IPython.core.display.HTML object>"
      ]
     },
     "metadata": {},
     "output_type": "display_data"
    },
    {
     "data": {
      "text/html": [
       "<a href=\"http://www.google.com/maps/place/33.93148,36.152049\" target=\"blank\">Berothah</a>"
      ],
      "text/plain": [
       "<IPython.core.display.HTML object>"
      ]
     },
     "metadata": {},
     "output_type": "display_data"
    },
    {
     "data": {
      "text/html": [
       "<a href=\"http://www.google.com/maps/place/32.80007552505443,35.93730130476259\" target=\"blank\">Hauran</a>"
      ],
      "text/plain": [
       "<IPython.core.display.HTML object>"
      ]
     },
     "metadata": {},
     "output_type": "display_data"
    },
    {
     "data": {
      "text/html": [
       "<a href=\"http://www.google.com/maps/place/29.849632,31.253958\" target=\"blank\">Memphis</a>"
      ],
      "text/plain": [
       "<IPython.core.display.HTML object>"
      ]
     },
     "metadata": {},
     "output_type": "display_data"
    },
    {
     "data": {
      "text/html": [
       "<a href=\"http://www.google.com/maps/place/32.7666666667,36.0166666667\" target=\"blank\">Karnaim</a>"
      ],
      "text/plain": [
       "<IPython.core.display.HTML object>"
      ]
     },
     "metadata": {},
     "output_type": "display_data"
    },
    {
     "data": {
      "text/html": [
       "<a href=\"http://www.google.com/maps/place/38.47682690345803,28.11413118732089\" target=\"blank\">Sepharad</a>"
      ],
      "text/plain": [
       "<IPython.core.display.HTML object>"
      ]
     },
     "metadata": {},
     "output_type": "display_data"
    },
    {
     "data": {
      "text/html": [
       "<a href=\"http://www.google.com/maps/place/25.700025,32.639441\" target=\"blank\">Thebes</a>"
      ],
      "text/plain": [
       "<IPython.core.display.HTML object>"
      ]
     },
     "metadata": {},
     "output_type": "display_data"
    },
    {
     "data": {
      "text/html": [
       "<a href=\"http://www.google.com/maps/place/34.11910360710159,35.6461419556213\" target=\"blank\">Gebal</a>"
      ],
      "text/plain": [
       "<IPython.core.display.HTML object>"
      ]
     },
     "metadata": {},
     "output_type": "display_data"
    },
    {
     "data": {
      "text/html": [
       "<a href=\"http://www.google.com/maps/place/22.0,77.0\" target=\"blank\">India</a>"
      ],
      "text/plain": [
       "<IPython.core.display.HTML object>"
      ]
     },
     "metadata": {},
     "output_type": "display_data"
    },
    {
     "data": {
      "text/html": [
       "<a href=\"http://www.google.com/maps/place/32.18919123705116,48.25788647687722\" target=\"blank\">Susa</a>"
      ],
      "text/plain": [
       "<IPython.core.display.HTML object>"
      ]
     },
     "metadata": {},
     "output_type": "display_data"
    },
    {
     "data": {
      "text/html": [
       "<a href=\"http://www.google.com/maps/place/32.53650368616845,44.42088287373876\" target=\"blank\">Babylon</a>"
      ],
      "text/plain": [
       "<IPython.core.display.HTML object>"
      ]
     },
     "metadata": {},
     "output_type": "display_data"
    },
    {
     "data": {
      "text/html": [
       "<a href=\"http://www.google.com/maps/place/31.777444,35.234935\" target=\"blank\">Jerusalem</a>"
      ],
      "text/plain": [
       "<IPython.core.display.HTML object>"
      ]
     },
     "metadata": {},
     "output_type": "display_data"
    },
    {
     "data": {
      "text/html": [
       "<a href=\"http://www.google.com/maps/place/34.798311,48.514966\" target=\"blank\">Media</a>"
      ],
      "text/plain": [
       "<IPython.core.display.HTML object>"
      ]
     },
     "metadata": {},
     "output_type": "display_data"
    },
    {
     "data": {
      "text/html": [
       "<a href=\"http://www.google.com/maps/place/34.798311,48.514966\" target=\"blank\">Persia</a>"
      ],
      "text/plain": [
       "<IPython.core.display.HTML object>"
      ]
     },
     "metadata": {},
     "output_type": "display_data"
    },
    {
     "data": {
      "text/html": [
       "<a href=\"http://www.google.com/maps/place/32.178696,48.22489\" target=\"blank\">Ulai</a>"
      ],
      "text/plain": [
       "<IPython.core.display.HTML object>"
      ]
     },
     "metadata": {},
     "output_type": "display_data"
    },
    {
     "data": {
      "text/html": [
       "<a href=\"http://www.google.com/maps/place/31.735465,35.220503\" target=\"blank\">Netophah</a>"
      ],
      "text/plain": [
       "<IPython.core.display.HTML object>"
      ]
     },
     "metadata": {},
     "output_type": "display_data"
    },
    {
     "data": {
      "text/html": [
       "<a href=\"http://www.google.com/maps/place/31.95138888888889,34.89527777777778\" target=\"blank\">Lod</a>"
      ],
      "text/plain": [
       "<IPython.core.display.HTML object>"
      ]
     },
     "metadata": {},
     "output_type": "display_data"
    },
    {
     "data": {
      "text/html": [
       "<a href=\"http://www.google.com/maps/place/31.963575,34.952536\" target=\"blank\">Hadid</a>"
      ],
      "text/plain": [
       "<IPython.core.display.HTML object>"
      ]
     },
     "metadata": {},
     "output_type": "display_data"
    },
    {
     "data": {
      "text/html": [
       "<a href=\"http://www.google.com/maps/place/32.02222222222223,34.86666666666667\" target=\"blank\">Ono</a>"
      ],
      "text/plain": [
       "<IPython.core.display.HTML object>"
      ]
     },
     "metadata": {},
     "output_type": "display_data"
    },
    {
     "data": {
      "text/html": [
       "<a href=\"http://www.google.com/maps/place/32.28023100000001,35.19792900000002\" target=\"blank\">Samaria</a>"
      ],
      "text/plain": [
       "<IPython.core.display.HTML object>"
      ]
     },
     "metadata": {},
     "output_type": "display_data"
    },
    {
     "data": {
      "text/html": [
       "<a href=\"http://www.google.com/maps/place/34.798311,48.514966\" target=\"blank\">Ecbatana</a>"
      ],
      "text/plain": [
       "<IPython.core.display.HTML object>"
      ]
     },
     "metadata": {},
     "output_type": "display_data"
    },
    {
     "data": {
      "text/html": [
       "<a href=\"http://www.google.com/maps/place/33.625197,42.786647\" target=\"blank\">Ahava</a>"
      ],
      "text/plain": [
       "<IPython.core.display.HTML object>"
      ]
     },
     "metadata": {},
     "output_type": "display_data"
    },
    {
     "data": {
      "text/html": [
       "<a href=\"http://www.google.com/maps/place/31.834203,35.260706\" target=\"blank\">Azmaveth</a>"
      ],
      "text/plain": [
       "<IPython.core.display.HTML object>"
      ]
     },
     "metadata": {},
     "output_type": "display_data"
    },
    {
     "data": {
      "text/html": [
       "<a href=\"http://www.google.com/maps/place/31.992079,34.957563\" target=\"blank\">Neballat</a>"
      ],
      "text/plain": [
       "<IPython.core.display.HTML object>"
      ]
     },
     "metadata": {},
     "output_type": "display_data"
    },
    {
     "data": {
      "text/html": [
       "<a href=\"http://www.google.com/maps/place/30.734691,35.60625\" target=\"blank\">Pai</a>"
      ],
      "text/plain": [
       "<IPython.core.display.HTML object>"
      ]
     },
     "metadata": {},
     "output_type": "display_data"
    },
    {
     "data": {
      "text/html": [
       "<a href=\"http://www.google.com/maps/place/31.7,35.0\" target=\"blank\">Cozeba</a>"
      ],
      "text/plain": [
       "<IPython.core.display.HTML object>"
      ]
     },
     "metadata": {},
     "output_type": "display_data"
    },
    {
     "data": {
      "text/html": [
       "<a href=\"http://www.google.com/maps/place/31.828406,35.287637\" target=\"blank\">Alemeth</a>"
      ],
      "text/plain": [
       "<IPython.core.display.HTML object>"
      ]
     },
     "metadata": {},
     "output_type": "display_data"
    },
    {
     "data": {
      "text/html": [
       "<a href=\"http://www.google.com/maps/place/32.51723975501718,35.21632508826309\" target=\"blank\">Aner</a>"
      ],
      "text/plain": [
       "<IPython.core.display.HTML object>"
      ]
     },
     "metadata": {},
     "output_type": "display_data"
    },
    {
     "data": {
      "text/html": [
       "<a href=\"http://www.google.com/maps/place/32.45,35.2833\" target=\"blank\">Bileam</a>"
      ],
      "text/plain": [
       "<IPython.core.display.HTML object>"
      ]
     },
     "metadata": {},
     "output_type": "display_data"
    },
    {
     "data": {
      "text/html": [
       "<a href=\"http://www.google.com/maps/place/32.46349905885267,35.3036831926058\" target=\"blank\">Anem</a>"
      ],
      "text/plain": [
       "<IPython.core.display.HTML object>"
      ]
     },
     "metadata": {},
     "output_type": "display_data"
    },
    {
     "data": {
      "text/html": [
       "<a href=\"http://www.google.com/maps/place/32.955448,35.211971\" target=\"blank\">Hukok</a>"
      ],
      "text/plain": [
       "<IPython.core.display.HTML object>"
      ]
     },
     "metadata": {},
     "output_type": "display_data"
    },
    {
     "data": {
      "text/html": [
       "<a href=\"http://www.google.com/maps/place/32.781808,35.321364\" target=\"blank\">Rimmono</a>"
      ],
      "text/plain": [
       "<IPython.core.display.HTML object>"
      ]
     },
     "metadata": {},
     "output_type": "display_data"
    },
    {
     "data": {
      "text/html": [
       "<a href=\"http://www.google.com/maps/place/31.949518,35.45873\" target=\"blank\">Naaran</a>"
      ],
      "text/plain": [
       "<IPython.core.display.HTML object>"
      ]
     },
     "metadata": {},
     "output_type": "display_data"
    },
    {
     "data": {
      "text/html": [
       "<a href=\"http://www.google.com/maps/place/31.752603,35.181972\" target=\"blank\">Manahath</a>"
      ],
      "text/plain": [
       "<IPython.core.display.HTML object>"
      ]
     },
     "metadata": {},
     "output_type": "display_data"
    },
    {
     "data": {
      "text/html": [
       "<a href=\"http://www.google.com/maps/place/33.519299,36.31344999999999\" target=\"blank\">Damascus</a>"
      ],
      "text/plain": [
       "<IPython.core.display.HTML object>"
      ]
     },
     "metadata": {},
     "output_type": "display_data"
    },
    {
     "data": {
      "text/html": [
       "<a href=\"http://www.google.com/maps/place/33.93148,36.152049\" target=\"blank\">Cun</a>"
      ],
      "text/plain": [
       "<IPython.core.display.HTML object>"
      ]
     },
     "metadata": {},
     "output_type": "display_data"
    },
    {
     "data": {
      "text/html": [
       "<a href=\"http://www.google.com/maps/place/36.91802695356275,34.89153398422567\" target=\"blank\">Kue</a>"
      ],
      "text/plain": [
       "<IPython.core.display.HTML object>"
      ]
     },
     "metadata": {},
     "output_type": "display_data"
    },
    {
     "data": {
      "text/html": [
       "<a href=\"http://www.google.com/maps/place/31.51666666666667,34.98333333333333\" target=\"blank\">Adoraim</a>"
      ],
      "text/plain": [
       "<IPython.core.display.HTML object>"
      ]
     },
     "metadata": {},
     "output_type": "display_data"
    },
    {
     "data": {
      "text/html": [
       "<a href=\"http://www.google.com/maps/place/31.980029,35.229709\" target=\"blank\">Jeshanah</a>"
      ],
      "text/plain": [
       "<IPython.core.display.HTML object>"
      ]
     },
     "metadata": {},
     "output_type": "display_data"
    },
    {
     "data": {
      "text/html": [
       "<a href=\"http://www.google.com/maps/place/31.572903,35.406346\" target=\"blank\">Ziz</a>"
      ],
      "text/plain": [
       "<IPython.core.display.HTML object>"
      ]
     },
     "metadata": {},
     "output_type": "display_data"
    },
    {
     "data": {
      "text/html": [
       "<a href=\"http://www.google.com/maps/place/31.865518,34.746856\" target=\"blank\">Jabneh</a>"
      ],
      "text/plain": [
       "<IPython.core.display.HTML object>"
      ]
     },
     "metadata": {},
     "output_type": "display_data"
    },
    {
     "data": {
      "text/html": [
       "<a href=\"http://www.google.com/maps/place/31.928659,34.943219\" target=\"blank\">Gimzo</a>"
      ],
      "text/plain": [
       "<IPython.core.display.HTML object>"
      ]
     },
     "metadata": {},
     "output_type": "display_data"
    }
   ],
   "source": [
    "for n in F.otype.s('lex'):\n",
    "    if F.lat.v(n) != None:\n",
    "        gmapsLink(n)"
   ]
  },
  {
   "cell_type": "markdown",
   "metadata": {},
   "source": [
    "## Plotting locations to Google Maps widget"
   ]
  },
  {
   "cell_type": "code",
   "execution_count": 18,
   "metadata": {},
   "outputs": [],
   "source": [
    "def marker_locations(gloss_list):\n",
    "    gps_list = []\n",
    "    for gloss in gloss_list:\n",
    "        node = F.gloss.s(gloss)\n",
    "        for n in node:\n",
    "            if F.lat.v(n) != None: #Some glosses, e.g. Nobah, is both a person and a place. We assure that they have latitude\n",
    "                gps = float(F.lat.v(n)), float(F.long.v(n))\n",
    "                marker = Marker(location=gps, title=gloss, rise_on_hover = True, draggable = False)\n",
    "                gps_list.append(marker)\n",
    "                break #The loop is finished after the first postive result to avoid redundant place names.\n",
    "    return gps_list\n",
    "\n",
    "def getCenter(gloss_list):\n",
    "    lat_list = []\n",
    "    long_list = []\n",
    "    for gloss in gloss_list:\n",
    "        node = F.gloss.s(gloss)\n",
    "        for n in node:\n",
    "            if F.lat.v(n) != None:\n",
    "                lat_list.append(float(F.lat.v(n)))\n",
    "                long_list.append(float(F.long.v(n)))\n",
    "                break\n",
    "    center=(mean(lat_list),mean(long_list))\n",
    "    return center\n",
    "\n",
    "def createMap(place_list):  \n",
    "    m = Map(center=getCenter(place_list), zoom=5)\n",
    "\n",
    "    marker_cluster = MarkerCluster(\n",
    "        markers=(marker_locations(place_list))\n",
    "    )\n",
    "    \n",
    "    layer = basemap_to_tiles(basemaps.Esri.WorldTopoMap)\n",
    "    m.add_layer(layer)\n",
    "\n",
    "    m.add_layer(marker_cluster);\n",
    "    return m"
   ]
  },
  {
   "cell_type": "code",
   "execution_count": 21,
   "metadata": {},
   "outputs": [
    {
     "data": {
      "application/vnd.jupyter.widget-view+json": {
       "model_id": "fea3849997034c3cb871afaa103717c0",
       "version_major": 2,
       "version_minor": 0
      },
      "text/plain": [
       "Map(basemap={'url': 'https://{s}.tile.openstreetmap.org/{z}/{x}/{y}.png', 'max_zoom': 19, 'attribution': 'Map …"
      ]
     },
     "metadata": {},
     "output_type": "display_data"
    }
   ],
   "source": [
    "place = ['Shittim']\n",
    "\n",
    "createMap(place)"
   ]
  },
  {
   "cell_type": "markdown",
   "metadata": {},
   "source": [
    "A dictionary of layers:"
   ]
  },
  {
   "cell_type": "code",
   "execution_count": 19,
   "metadata": {},
   "outputs": [],
   "source": [
    "#basemaps"
   ]
  },
  {
   "cell_type": "code",
   "execution_count": 20,
   "metadata": {},
   "outputs": [],
   "source": [
    "def allPlaces():\n",
    "    all_places = []\n",
    "    for n in F.otype.s('lex'):\n",
    "        if F.lat.v(n) != None:\n",
    "            all_places.append(F.gloss.v(n))\n",
    "            \n",
    "    return all_places"
   ]
  },
  {
   "cell_type": "code",
   "execution_count": 21,
   "metadata": {},
   "outputs": [
    {
     "data": {
      "application/vnd.jupyter.widget-view+json": {
       "model_id": "3e0a5ea7e4b14cb0b3d6d1bd136e26a3",
       "version_major": 2,
       "version_minor": 0
      },
      "text/plain": [
       "Map(basemap={'url': 'https://{s}.tile.openstreetmap.org/{z}/{x}/{y}.png', 'max_zoom': 19, 'attribution': 'Map …"
      ]
     },
     "metadata": {},
     "output_type": "display_data"
    }
   ],
   "source": [
    "createMap(allPlaces())"
   ]
  },
  {
   "cell_type": "markdown",
   "metadata": {},
   "source": [
    "## Calculating distance between locations"
   ]
  },
  {
   "cell_type": "markdown",
   "metadata": {},
   "source": [
    "The distance between two sets of coordinates is calculated with [Vincenty's formulae](https://en.wikipedia.org/wiki/Vincenty%27s_formulae) which is implemented in the Python module [geopy](https://pypi.org/project/geopy/). Vincenty's formulae calculate the distance between two points on the surface of a spheroid."
   ]
  },
  {
   "cell_type": "code",
   "execution_count": 22,
   "metadata": {},
   "outputs": [],
   "source": [
    "def calcDistance(place_tuple):\n",
    "    gps_list = []\n",
    "    for pl in place_tuple:\n",
    "        node = F.gloss.s(pl)\n",
    "        for n in node:\n",
    "            if F.lat.v(n) != None:\n",
    "                gps = float(F.lat.v(n)), float(F.long.v(n))\n",
    "                gps_list.append(gps)\n",
    "                break\n",
    "\n",
    "    distance = geopy.distance.vincenty(gps_list[0], gps_list[1]).km\n",
    "    return distance"
   ]
  },
  {
   "cell_type": "code",
   "execution_count": 24,
   "metadata": {},
   "outputs": [
    {
     "name": "stdout",
     "output_type": "stream",
     "text": [
      "31.28 km\n"
     ]
    }
   ],
   "source": [
    "place = ('Shiloh', 'Jerusalem')\n",
    "\n",
    "dist = calcDistance(place)\n",
    "print(f'{round(dist, 2)} km')"
   ]
  },
  {
   "cell_type": "markdown",
   "metadata": {},
   "source": [
    "## Showing all locations within a radius"
   ]
  },
  {
   "cell_type": "code",
   "execution_count": 25,
   "metadata": {},
   "outputs": [],
   "source": [
    "def createRadiusMap(center, km=10):\n",
    "    place_list=allPlaces()\n",
    "    places_within_radius = []\n",
    "    for pl in place_list:\n",
    "        comp_place = (center, pl)\n",
    "        distance = calcDistance(comp_place)\n",
    "        if distance <= km:\n",
    "            places_within_radius.append(pl)\n",
    "    \n",
    "    marker_cluster = MarkerCluster(\n",
    "        markers=marker_locations(places_within_radius)\n",
    "    )\n",
    "    \n",
    "    zoom = 15*km**-0.146 # Zoom is calculated as a power function dependent on the radius.\n",
    "    zoom = int(round(zoom))\n",
    "    \n",
    "    center_marker = marker_locations(center.split())\n",
    "    m = Map(center=getCenter(center.split()), zoom=zoom)\n",
    "    \n",
    "    m.add_layer(marker_cluster);\n",
    "    \n",
    "    tile_layer = basemap_to_tiles(basemaps.Esri.WorldTopoMap)\n",
    "    m.add_layer(tile_layer)\n",
    "    \n",
    "    circle = Circle()\n",
    "    circle.location = getCenter(center.split())\n",
    "    circle.radius = km*1000\n",
    "    circle.fill = True\n",
    "    circle.fill_color = \"black\"\n",
    "    circle.fill_opacity = 0.04\n",
    "    circle.color = \"black\"\n",
    "    circle.weight = 1\n",
    "    circle.opacity = .5\n",
    "    \n",
    "    m.add_layer(circle)\n",
    "    \n",
    "    display(m)"
   ]
  },
  {
   "cell_type": "code",
   "execution_count": 26,
   "metadata": {
    "scrolled": false
   },
   "outputs": [
    {
     "data": {
      "application/vnd.jupyter.widget-view+json": {
       "model_id": "4bc119edd2dc45ddb53b013852823058",
       "version_major": 2,
       "version_minor": 0
      },
      "text/plain": [
       "interactive(children=(Text(value='Jerusalem', description='center'), IntSlider(value=10, description='km', min…"
      ]
     },
     "metadata": {},
     "output_type": "display_data"
    }
   ],
   "source": [
    "w = widgets.interact_manual(createRadiusMap, center=\"Jerusalem\", km=(1,100))"
   ]
  },
  {
   "cell_type": "markdown",
   "metadata": {},
   "source": [
    "## Showing locations according to Biblical book"
   ]
  },
  {
   "cell_type": "code",
   "execution_count": 27,
   "metadata": {},
   "outputs": [],
   "source": [
    "def bookRef():\n",
    "    \n",
    "    book_ref_dict = collections.defaultdict(lambda: collections.defaultdict(int))\n",
    "    for n in F.otype.s('word'):\n",
    "        lex = L.u(n, 'lex')[0]\n",
    "        if F.lat.v(lex) != None:\n",
    "            book = T.bookName(n)\n",
    "            gloss = F.gloss.v(lex)\n",
    "            book_ref_dict[book][F.gloss.v(lex)] += 1\n",
    "        \n",
    "    return book_ref_dict"
   ]
  },
  {
   "cell_type": "code",
   "execution_count": 28,
   "metadata": {},
   "outputs": [],
   "source": [
    "book_ref_dict = bookRef()"
   ]
  },
  {
   "cell_type": "code",
   "execution_count": 29,
   "metadata": {
    "scrolled": false
   },
   "outputs": [],
   "source": [
    "def bookList(number):\n",
    "    book_list = []\n",
    "\n",
    "    for n in F.otype.s('book'):\n",
    "        book_list.append(T.bookName(n))\n",
    "    \n",
    "    return book_list[number]\n",
    "\n",
    "def createBookMap(number=1):\n",
    "    book = bookList(number-1)\n",
    "    display(book)\n",
    "    \n",
    "    global book_ref_dict\n",
    "    try:\n",
    "        book_ref_dict\n",
    "    except:\n",
    "        book_ref_dict = bookRef()\n",
    "    place_list = book_ref_dict[book].keys()\n",
    "    \n",
    "    display(createMap(place_list))"
   ]
  },
  {
   "cell_type": "code",
   "execution_count": 30,
   "metadata": {},
   "outputs": [
    {
     "data": {
      "application/vnd.jupyter.widget-view+json": {
       "model_id": "698cdf7d550342a4bcc93c239644b62b",
       "version_major": 2,
       "version_minor": 0
      },
      "text/plain": [
       "interactive(children=(IntSlider(value=1, description='number', max=39, min=1), Output()), _dom_classes=('widge…"
      ]
     },
     "metadata": {},
     "output_type": "display_data"
    }
   ],
   "source": [
    "w = widgets.interact(createBookMap, number=(1,39))"
   ]
  },
  {
   "cell_type": "code",
   "execution_count": 31,
   "metadata": {},
   "outputs": [],
   "source": [
    "def createBookHeatMap(number=1):\n",
    "    book = bookList(number-1)\n",
    "    \n",
    "    display(book)\n",
    "    \n",
    "    global book_ref_dict\n",
    "    try:\n",
    "        book_ref_dict\n",
    "    except:\n",
    "        book_ref_dict = bookRef()\n",
    "\n",
    "    book_ref = book_ref_dict[book]\n",
    "    \n",
    "    locations = []\n",
    "    for pl in book_ref:\n",
    "        node = F.gloss.s(pl)\n",
    "        for n in node:\n",
    "            if F.lat.v(n) != None:\n",
    "                locations.append([float(F.lat.v(n)), float(F.long.v(n)), book_ref[pl]])\n",
    "                break\n",
    "    \n",
    "    m = Map(center=getCenter(book_ref.keys()), zoom=6)\n",
    "    \n",
    "    heatmap = Heatmap(\n",
    "        locations=locations,\n",
    "        radius=20,\n",
    "        min_opacity = 0.20,\n",
    "        gradient = {0.2: 'blue', 0.4: 'cyan', 0.6: 'lime', 0.8: 'yellow', 1.0: 'red'}\n",
    "    )\n",
    "    \n",
    "    tile_layer = basemap_to_tiles(basemaps.Esri.WorldTopoMap)\n",
    "    m.add_layer(tile_layer)\n",
    "            \n",
    "    m.add_layer(heatmap);\n",
    "\n",
    "    display(m)"
   ]
  },
  {
   "cell_type": "code",
   "execution_count": 32,
   "metadata": {
    "scrolled": false
   },
   "outputs": [
    {
     "data": {
      "application/vnd.jupyter.widget-view+json": {
       "model_id": "e72b3b39ef444e7988b330a68dc6a579",
       "version_major": 2,
       "version_minor": 0
      },
      "text/plain": [
       "interactive(children=(IntSlider(value=1, description='number', max=39, min=1), Output()), _dom_classes=('widge…"
      ]
     },
     "metadata": {},
     "output_type": "display_data"
    }
   ],
   "source": [
    "w = widgets.interact(createBookHeatMap, number=(1,39), continuous_update=False)"
   ]
  }
 ],
 "metadata": {
  "kernelspec": {
   "display_name": "Python 3",
   "language": "python",
   "name": "python3"
  },
  "language_info": {
   "codemirror_mode": {
    "name": "ipython",
    "version": 3
   },
   "file_extension": ".py",
   "mimetype": "text/x-python",
   "name": "python",
   "nbconvert_exporter": "python",
   "pygments_lexer": "ipython3",
   "version": "3.6.5"
  }
 },
 "nbformat": 4,
 "nbformat_minor": 2
}
